{
 "cells": [
  {
   "cell_type": "markdown",
   "metadata": {
    "collapsed": false
   },
   "source": [
    "# Step1 安装依赖"
   ]
  },
  {
   "cell_type": "code",
   "execution_count": null,
   "metadata": {
    "collapsed": false
   },
   "outputs": [
    {
     "name": "stdout",
     "output_type": "stream",
     "text": [
      "Requirement already satisfied: gym in /usr/local/lib/python3.6/dist-packages (0.17.3)\n",
      "Requirement already satisfied: numpy>=1.10.4 in /usr/local/lib/python3.6/dist-packages (from gym) (1.18.5)\n",
      "Requirement already satisfied: scipy in /usr/local/lib/python3.6/dist-packages (from gym) (1.4.1)\n",
      "Requirement already satisfied: cloudpickle<1.7.0,>=1.2.0 in /usr/local/lib/python3.6/dist-packages (from gym) (1.3.0)\n",
      "Requirement already satisfied: pyglet<=1.5.0,>=1.4.0 in /usr/local/lib/python3.6/dist-packages (from gym) (1.5.0)\n",
      "Requirement already satisfied: future in /usr/local/lib/python3.6/dist-packages (from pyglet<=1.5.0,>=1.4.0->gym) (0.16.0)\n",
      "Requirement already satisfied: atari-py in /usr/local/lib/python3.6/dist-packages (0.2.6)\n",
      "Requirement already satisfied: numpy in /usr/local/lib/python3.6/dist-packages (from atari-py) (1.18.5)\n",
      "Requirement already satisfied: six in /usr/local/lib/python3.6/dist-packages (from atari-py) (1.15.0)\n",
      "Collecting paddlepaddle==1.6.3\n",
      "\u001b[?25l  Downloading https://files.pythonhosted.org/packages/c9/0f/539fc21b20e70914af545889996103780c90230be6fdf3966e3e81815edd/paddlepaddle-1.6.3-cp36-cp36m-manylinux1_x86_64.whl (90.9MB)\n",
      "\u001b[K     |████████████████████████████████| 90.9MB 107kB/s \n",
      "\u001b[?25hCollecting matplotlib<=2.2.4\n",
      "\u001b[?25l  Downloading https://files.pythonhosted.org/packages/48/9b/7ee428ab95b07946d5c20ba01ce27721686e6051b202930d3d810821c166/matplotlib-2.2.4-cp36-cp36m-manylinux1_x86_64.whl (12.8MB)\n",
      "\u001b[K     |████████████████████████████████| 12.8MB 38.8MB/s \n",
      "\u001b[?25hRequirement already satisfied: opencv-python in /usr/local/lib/python3.6/dist-packages (from paddlepaddle==1.6.3) (4.1.2.30)\n",
      "Requirement already satisfied: numpy>=1.12 in /usr/local/lib/python3.6/dist-packages (from paddlepaddle==1.6.3) (1.18.5)\n",
      "Collecting scipy<=1.2.1,>=0.19.0\n",
      "\u001b[?25l  Downloading https://files.pythonhosted.org/packages/7f/5f/c48860704092933bf1c4c1574a8de1ffd16bf4fde8bab190d747598844b2/scipy-1.2.1-cp36-cp36m-manylinux1_x86_64.whl (24.8MB)\n",
      "\u001b[K     |████████████████████████████████| 24.8MB 1.3MB/s \n",
      "\u001b[?25hRequirement already satisfied: nltk<=3.4,>=3.2.2 in /usr/local/lib/python3.6/dist-packages (from paddlepaddle==1.6.3) (3.2.5)\n",
      "Collecting funcsigs\n",
      "  Downloading https://files.pythonhosted.org/packages/69/cb/f5be453359271714c01b9bd06126eaf2e368f1fddfff30818754b5ac2328/funcsigs-1.0.2-py2.py3-none-any.whl\n",
      "Requirement already satisfied: protobuf>=3.1.0 in /usr/local/lib/python3.6/dist-packages (from paddlepaddle==1.6.3) (3.12.4)\n",
      "Requirement already satisfied: decorator in /usr/local/lib/python3.6/dist-packages (from paddlepaddle==1.6.3) (4.4.2)\n",
      "Requirement already satisfied: prettytable in /usr/local/lib/python3.6/dist-packages (from paddlepaddle==1.6.3) (1.0.1)\n",
      "Collecting objgraph\n",
      "  Downloading https://files.pythonhosted.org/packages/a9/79/9f47706447b9ba0003c0680da4fed1d502adf410e1d953b4d1a5d3486640/objgraph-3.5.0-py2.py3-none-any.whl\n",
      "Requirement already satisfied: Pillow in /usr/local/lib/python3.6/dist-packages (from paddlepaddle==1.6.3) (7.0.0)\n",
      "Requirement already satisfied: pyyaml in /usr/local/lib/python3.6/dist-packages (from paddlepaddle==1.6.3) (3.13)\n",
      "Requirement already satisfied: requests>=2.20.0 in /usr/local/lib/python3.6/dist-packages (from paddlepaddle==1.6.3) (2.23.0)\n",
      "Requirement already satisfied: six in /usr/local/lib/python3.6/dist-packages (from paddlepaddle==1.6.3) (1.15.0)\n",
      "Requirement already satisfied: graphviz in /usr/local/lib/python3.6/dist-packages (from paddlepaddle==1.6.3) (0.10.1)\n",
      "Collecting rarfile\n",
      "  Downloading https://files.pythonhosted.org/packages/95/f4/c92fab227c7457e3b76a4096ccb655ded9deac869849cb03afbe55dfdc1e/rarfile-4.0-py3-none-any.whl\n",
      "Requirement already satisfied: kiwisolver>=1.0.1 in /usr/local/lib/python3.6/dist-packages (from matplotlib<=2.2.4->paddlepaddle==1.6.3) (1.2.0)\n",
      "Requirement already satisfied: pyparsing!=2.0.4,!=2.1.2,!=2.1.6,>=2.0.1 in /usr/local/lib/python3.6/dist-packages (from matplotlib<=2.2.4->paddlepaddle==1.6.3) (2.4.7)\n",
      "Requirement already satisfied: pytz in /usr/local/lib/python3.6/dist-packages (from matplotlib<=2.2.4->paddlepaddle==1.6.3) (2018.9)\n",
      "Requirement already satisfied: python-dateutil>=2.1 in /usr/local/lib/python3.6/dist-packages (from matplotlib<=2.2.4->paddlepaddle==1.6.3) (2.8.1)\n",
      "Requirement already satisfied: cycler>=0.10 in /usr/local/lib/python3.6/dist-packages (from matplotlib<=2.2.4->paddlepaddle==1.6.3) (0.10.0)\n",
      "Requirement already satisfied: setuptools in /usr/local/lib/python3.6/dist-packages (from protobuf>=3.1.0->paddlepaddle==1.6.3) (50.3.2)\n",
      "Requirement already satisfied: wcwidth in /usr/local/lib/python3.6/dist-packages (from prettytable->paddlepaddle==1.6.3) (0.2.5)\n",
      "Requirement already satisfied: chardet<4,>=3.0.2 in /usr/local/lib/python3.6/dist-packages (from requests>=2.20.0->paddlepaddle==1.6.3) (3.0.4)\n",
      "Requirement already satisfied: certifi>=2017.4.17 in /usr/local/lib/python3.6/dist-packages (from requests>=2.20.0->paddlepaddle==1.6.3) (2020.6.20)\n",
      "Requirement already satisfied: idna<3,>=2.5 in /usr/local/lib/python3.6/dist-packages (from requests>=2.20.0->paddlepaddle==1.6.3) (2.10)\n",
      "Requirement already satisfied: urllib3!=1.25.0,!=1.25.1,<1.26,>=1.21.1 in /usr/local/lib/python3.6/dist-packages (from requests>=2.20.0->paddlepaddle==1.6.3) (1.24.3)\n",
      "\u001b[31mERROR: umap-learn 0.4.6 has requirement scipy>=1.3.1, but you'll have scipy 1.2.1 which is incompatible.\u001b[0m\n",
      "\u001b[31mERROR: tensorflow 2.3.0 has requirement scipy==1.4.1, but you'll have scipy 1.2.1 which is incompatible.\u001b[0m\n",
      "\u001b[31mERROR: plotnine 0.6.0 has requirement matplotlib>=3.1.1, but you'll have matplotlib 2.2.4 which is incompatible.\u001b[0m\n",
      "\u001b[31mERROR: mizani 0.6.0 has requirement matplotlib>=3.1.1, but you'll have matplotlib 2.2.4 which is incompatible.\u001b[0m\n",
      "\u001b[31mERROR: albumentations 0.1.12 has requirement imgaug<0.2.7,>=0.2.5, but you'll have imgaug 0.2.9 which is incompatible.\u001b[0m\n",
      "\u001b[31mERROR: paddlepaddle 1.6.3 has requirement numpy<=1.16.4,>=1.12, but you'll have numpy 1.18.5 which is incompatible.\u001b[0m\n",
      "Installing collected packages: matplotlib, scipy, funcsigs, objgraph, rarfile, paddlepaddle\n",
      "  Found existing installation: matplotlib 3.2.2\n",
      "    Uninstalling matplotlib-3.2.2:\n",
      "      Successfully uninstalled matplotlib-3.2.2\n",
      "  Found existing installation: scipy 1.4.1\n",
      "    Uninstalling scipy-1.4.1:\n",
      "      Successfully uninstalled scipy-1.4.1\n",
      "Successfully installed funcsigs-1.0.2 matplotlib-2.2.4 objgraph-3.5.0 paddlepaddle-1.6.3 rarfile-4.0 scipy-1.2.1\n"
     ]
    },
    {
     "data": {},
     "metadata": {},
     "output_type": "display_data"
    },
    {
     "name": "stdout",
     "output_type": "stream",
     "text": [
      "Collecting parl==1.3.1\n",
      "\u001b[?25l  Downloading https://files.pythonhosted.org/packages/62/79/590af38a920792c71afb73fad7583967928b4d0ba9fca76250d935c7fda8/parl-1.3.1-py2.py3-none-any.whl (521kB)\n",
      "\u001b[K     |████████████████████████████████| 522kB 2.6MB/s \n",
      "\u001b[?25hRequirement already satisfied: scipy>=1.0.0 in /usr/local/lib/python3.6/dist-packages (from parl==1.3.1) (1.2.1)\n",
      "Collecting psutil>=5.6.2\n",
      "\u001b[?25l  Downloading https://files.pythonhosted.org/packages/33/e0/82d459af36bda999f82c7ea86c67610591cf5556168f48fd6509e5fa154d/psutil-5.7.3.tar.gz (465kB)\n",
      "\u001b[K     |████████████████████████████████| 471kB 12.0MB/s \n",
      "\u001b[?25hRequirement already satisfied: termcolor>=1.1.0 in /usr/local/lib/python3.6/dist-packages (from parl==1.3.1) (1.1.0)\n",
      "Collecting pyarrow==0.13.0\n",
      "\u001b[?25l  Downloading https://files.pythonhosted.org/packages/ad/25/094b122d828d24b58202712a74e661e36cd551ca62d331e388ff68bae91d/pyarrow-0.13.0-cp36-cp36m-manylinux1_x86_64.whl (48.5MB)\n",
      "\u001b[K     |████████████████████████████████| 48.5MB 80kB/s \n",
      "\u001b[?25hCollecting tb-nightly==1.15.0a20190801\n",
      "\u001b[?25l  Downloading https://files.pythonhosted.org/packages/6e/54/e3d02d99f08ef0c5130e1abb715e83e7a32a4b4662522713f39b18980120/tb_nightly-1.15.0a20190801-py3-none-any.whl (4.3MB)\n",
      "\u001b[K     |████████████████████████████████| 4.3MB 44.3MB/s \n",
      "\u001b[?25hRequirement already satisfied: click in /usr/local/lib/python3.6/dist-packages (from parl==1.3.1) (7.1.2)\n",
      "Collecting pyzmq==18.0.1\n",
      "\u001b[?25l  Downloading https://files.pythonhosted.org/packages/5f/04/f6f0fa20b698b29c6e6b1d6b4b575c12607b0abf61810aab1df4099988c6/pyzmq-18.0.1-cp36-cp36m-manylinux1_x86_64.whl (1.1MB)\n",
      "\u001b[K     |████████████████████████████████| 1.1MB 45.5MB/s \n",
      "\u001b[?25hCollecting visualdl>=2.0.0b; python_version >= \"3\" and platform_system == \"Linux\"\n",
      "\u001b[?25l  Downloading https://files.pythonhosted.org/packages/98/df/08540946de1b8806bcc4b659578827ec0820ee8d33bc4760e6d815fe74a7/visualdl-2.0.4-py3-none-any.whl (5.3MB)\n",
      "\u001b[K     |████████████████████████████████| 5.3MB 38.1MB/s \n",
      "\u001b[?25hCollecting cloudpickle==1.2.1\n",
      "  Downloading https://files.pythonhosted.org/packages/09/f4/4a080c349c1680a2086196fcf0286a65931708156f39568ed7051e42ff6a/cloudpickle-1.2.1-py2.py3-none-any.whl\n",
      "Collecting tensorboardX==1.8\n",
      "\u001b[?25l  Downloading https://files.pythonhosted.org/packages/c3/12/dcaf67e1312475b26db9e45e7bb6f32b540671a9ee120b3a72d9e09bc517/tensorboardX-1.8-py2.py3-none-any.whl (216kB)\n",
      "\u001b[K     |████████████████████████████████| 225kB 46.6MB/s \n",
      "\u001b[?25hCollecting flask-cors\n",
      "  Downloading https://files.pythonhosted.org/packages/69/7f/d0aeaaafb5c3c76c8d2141dbe2d4f6dca5d6c31872d4e5349768c1958abc/Flask_Cors-3.0.9-py2.py3-none-any.whl\n",
      "Requirement already satisfied: flask>=1.0.4 in /usr/local/lib/python3.6/dist-packages (from parl==1.3.1) (1.1.2)\n",
      "Requirement already satisfied: numpy>=1.8.2 in /usr/local/lib/python3.6/dist-packages (from scipy>=1.0.0->parl==1.3.1) (1.18.5)\n",
      "Requirement already satisfied: six>=1.0.0 in /usr/local/lib/python3.6/dist-packages (from pyarrow==0.13.0->parl==1.3.1) (1.15.0)\n",
      "Requirement already satisfied: werkzeug>=0.11.15 in /usr/local/lib/python3.6/dist-packages (from tb-nightly==1.15.0a20190801->parl==1.3.1) (1.0.1)\n",
      "Requirement already satisfied: wheel>=0.26; python_version >= \"3\" in /usr/local/lib/python3.6/dist-packages (from tb-nightly==1.15.0a20190801->parl==1.3.1) (0.35.1)\n",
      "Requirement already satisfied: absl-py>=0.4 in /usr/local/lib/python3.6/dist-packages (from tb-nightly==1.15.0a20190801->parl==1.3.1) (0.10.0)\n",
      "Requirement already satisfied: protobuf>=3.6.0 in /usr/local/lib/python3.6/dist-packages (from tb-nightly==1.15.0a20190801->parl==1.3.1) (3.12.4)\n",
      "Requirement already satisfied: grpcio>=1.6.3 in /usr/local/lib/python3.6/dist-packages (from tb-nightly==1.15.0a20190801->parl==1.3.1) (1.33.1)\n",
      "Requirement already satisfied: setuptools>=41.0.0 in /usr/local/lib/python3.6/dist-packages (from tb-nightly==1.15.0a20190801->parl==1.3.1) (50.3.2)\n",
      "Requirement already satisfied: markdown>=2.6.8 in /usr/local/lib/python3.6/dist-packages (from tb-nightly==1.15.0a20190801->parl==1.3.1) (3.3.2)\n",
      "Collecting bce-python-sdk\n",
      "\u001b[?25l  Downloading https://files.pythonhosted.org/packages/30/ce/79ae8c0e5995c8458a61f9cdc1d83654f4280fca99914fadf814c179f499/bce_python_sdk-0.8.49-py3-none-any.whl (172kB)\n",
      "\u001b[K     |████████████████████████████████| 174kB 50.0MB/s \n",
      "\u001b[?25hCollecting pre-commit\n",
      "\u001b[?25l  Downloading https://files.pythonhosted.org/packages/27/ef/f03c234bc38db078dc820a3ba457bb0414f4d38ae88de7c5e2686010ed65/pre_commit-2.8.2-py2.py3-none-any.whl (184kB)\n",
      "\u001b[K     |████████████████████████████████| 184kB 47.2MB/s \n",
      "\u001b[?25hRequirement already satisfied: Pillow>=7.0.0 in /usr/local/lib/python3.6/dist-packages (from visualdl>=2.0.0b; python_version >= \"3\" and platform_system == \"Linux\"->parl==1.3.1) (7.0.0)\n",
      "Requirement already satisfied: requests in /usr/local/lib/python3.6/dist-packages (from visualdl>=2.0.0b; python_version >= \"3\" and platform_system == \"Linux\"->parl==1.3.1) (2.23.0)\n",
      "Collecting Flask-Babel>=1.0.0\n",
      "  Downloading https://files.pythonhosted.org/packages/ab/3e/02331179ffab8b79e0383606a028b6a60fb1b4419b84935edd43223406a0/Flask_Babel-2.0.0-py3-none-any.whl\n",
      "Collecting flake8>=3.7.9\n",
      "\u001b[?25l  Downloading https://files.pythonhosted.org/packages/d4/ca/3971802ee6251da1abead1a22831d7f4743781e2f743bd266bdd2f46c19b/flake8-3.8.4-py2.py3-none-any.whl (72kB)\n",
      "\u001b[K     |████████████████████████████████| 81kB 7.2MB/s \n",
      "\u001b[?25hRequirement already satisfied: Jinja2>=2.10.1 in /usr/local/lib/python3.6/dist-packages (from flask>=1.0.4->parl==1.3.1) (2.11.2)\n",
      "Requirement already satisfied: itsdangerous>=0.24 in /usr/local/lib/python3.6/dist-packages (from flask>=1.0.4->parl==1.3.1) (1.1.0)\n",
      "Requirement already satisfied: importlib-metadata; python_version < \"3.8\" in /usr/local/lib/python3.6/dist-packages (from markdown>=2.6.8->tb-nightly==1.15.0a20190801->parl==1.3.1) (2.0.0)\n",
      "Requirement already satisfied: future>=0.6.0 in /usr/local/lib/python3.6/dist-packages (from bce-python-sdk->visualdl>=2.0.0b; python_version >= \"3\" and platform_system == \"Linux\"->parl==1.3.1) (0.16.0)\n",
      "Collecting pycryptodome>=3.8.0\n",
      "\u001b[?25l  Downloading https://files.pythonhosted.org/packages/2b/6f/7e38d7c97fbbc3987539c804282c33f56b6b07381bf2390deead696440c5/pycryptodome-3.9.9-cp36-cp36m-manylinux1_x86_64.whl (13.7MB)\n",
      "\u001b[K     |████████████████████████████████| 13.7MB 194kB/s \n",
      "\u001b[?25hCollecting virtualenv>=20.0.8\n",
      "\u001b[?25l  Downloading https://files.pythonhosted.org/packages/97/f3/c064343ac58d1a54c393a3f66483a29500f644a5918deeb935d28673edd9/virtualenv-20.1.0-py2.py3-none-any.whl (4.9MB)\n",
      "\u001b[K     |████████████████████████████████| 4.9MB 42.6MB/s \n",
      "\u001b[?25hCollecting nodeenv>=0.11.1\n",
      "  Downloading https://files.pythonhosted.org/packages/ae/d0/efdf54539948315cc76e5a66b709212963101d002822c3b54369dbf9b5e0/nodeenv-1.5.0-py2.py3-none-any.whl\n",
      "Collecting identify>=1.0.0\n",
      "\u001b[?25l  Downloading https://files.pythonhosted.org/packages/a3/16/bb4ab5d0b1b2178895ac0060d744f61bb69d7219052ba661dc114bff2f9d/identify-1.5.7-py2.py3-none-any.whl (97kB)\n",
      "\u001b[K     |████████████████████████████████| 102kB 7.5MB/s \n",
      "\u001b[?25hCollecting pyyaml>=5.1\n",
      "\u001b[?25l  Downloading https://files.pythonhosted.org/packages/64/c2/b80047c7ac2478f9501676c988a5411ed5572f35d1beff9cae07d321512c/PyYAML-5.3.1.tar.gz (269kB)\n",
      "\u001b[K     |████████████████████████████████| 276kB 44.6MB/s \n",
      "\u001b[?25hRequirement already satisfied: toml in /usr/local/lib/python3.6/dist-packages (from pre-commit->visualdl>=2.0.0b; python_version >= \"3\" and platform_system == \"Linux\"->parl==1.3.1) (0.10.1)\n",
      "Requirement already satisfied: importlib-resources; python_version < \"3.7\" in /usr/local/lib/python3.6/dist-packages (from pre-commit->visualdl>=2.0.0b; python_version >= \"3\" and platform_system == \"Linux\"->parl==1.3.1) (3.1.0)\n",
      "Collecting cfgv>=2.0.0\n",
      "  Downloading https://files.pythonhosted.org/packages/45/cd/3878c9248e59e5e2ebd0dc741ab984b18d86e7283ae9b127b05fc287d239/cfgv-3.2.0-py2.py3-none-any.whl\n",
      "Requirement already satisfied: urllib3!=1.25.0,!=1.25.1,<1.26,>=1.21.1 in /usr/local/lib/python3.6/dist-packages (from requests->visualdl>=2.0.0b; python_version >= \"3\" and platform_system == \"Linux\"->parl==1.3.1) (1.24.3)\n",
      "Requirement already satisfied: certifi>=2017.4.17 in /usr/local/lib/python3.6/dist-packages (from requests->visualdl>=2.0.0b; python_version >= \"3\" and platform_system == \"Linux\"->parl==1.3.1) (2020.6.20)\n",
      "Requirement already satisfied: idna<3,>=2.5 in /usr/local/lib/python3.6/dist-packages (from requests->visualdl>=2.0.0b; python_version >= \"3\" and platform_system == \"Linux\"->parl==1.3.1) (2.10)\n",
      "Requirement already satisfied: chardet<4,>=3.0.2 in /usr/local/lib/python3.6/dist-packages (from requests->visualdl>=2.0.0b; python_version >= \"3\" and platform_system == \"Linux\"->parl==1.3.1) (3.0.4)\n",
      "Requirement already satisfied: Babel>=2.3 in /usr/local/lib/python3.6/dist-packages (from Flask-Babel>=1.0.0->visualdl>=2.0.0b; python_version >= \"3\" and platform_system == \"Linux\"->parl==1.3.1) (2.8.0)\n",
      "Requirement already satisfied: pytz in /usr/local/lib/python3.6/dist-packages (from Flask-Babel>=1.0.0->visualdl>=2.0.0b; python_version >= \"3\" and platform_system == \"Linux\"->parl==1.3.1) (2018.9)\n",
      "Collecting pycodestyle<2.7.0,>=2.6.0a1\n",
      "\u001b[?25l  Downloading https://files.pythonhosted.org/packages/10/5b/88879fb861ab79aef45c7e199cae3ef7af487b5603dcb363517a50602dd7/pycodestyle-2.6.0-py2.py3-none-any.whl (41kB)\n",
      "\u001b[K     |████████████████████████████████| 51kB 4.9MB/s \n",
      "\u001b[?25hCollecting pyflakes<2.3.0,>=2.2.0\n",
      "\u001b[?25l  Downloading https://files.pythonhosted.org/packages/69/5b/fd01b0c696f2f9a6d2c839883b642493b431f28fa32b29abc465ef675473/pyflakes-2.2.0-py2.py3-none-any.whl (66kB)\n",
      "\u001b[K     |████████████████████████████████| 71kB 6.5MB/s \n",
      "\u001b[?25hCollecting mccabe<0.7.0,>=0.6.0\n",
      "  Downloading https://files.pythonhosted.org/packages/87/89/479dc97e18549e21354893e4ee4ef36db1d237534982482c3681ee6e7b57/mccabe-0.6.1-py2.py3-none-any.whl\n",
      "Requirement already satisfied: MarkupSafe>=0.23 in /usr/local/lib/python3.6/dist-packages (from Jinja2>=2.10.1->flask>=1.0.4->parl==1.3.1) (1.1.1)\n",
      "Requirement already satisfied: zipp>=0.5 in /usr/local/lib/python3.6/dist-packages (from importlib-metadata; python_version < \"3.8\"->markdown>=2.6.8->tb-nightly==1.15.0a20190801->parl==1.3.1) (3.3.1)\n",
      "Requirement already satisfied: filelock<4,>=3.0.0 in /usr/local/lib/python3.6/dist-packages (from virtualenv>=20.0.8->pre-commit->visualdl>=2.0.0b; python_version >= \"3\" and platform_system == \"Linux\"->parl==1.3.1) (3.0.12)\n",
      "Collecting appdirs<2,>=1.4.3\n",
      "  Downloading https://files.pythonhosted.org/packages/3b/00/2344469e2084fb287c2e0b57b72910309874c3245463acd6cf5e3db69324/appdirs-1.4.4-py2.py3-none-any.whl\n",
      "Collecting distlib<1,>=0.3.1\n",
      "\u001b[?25l  Downloading https://files.pythonhosted.org/packages/f5/0a/490fa011d699bb5a5f3a0cf57de82237f52a6db9d40f33c53b2736c9a1f9/distlib-0.3.1-py2.py3-none-any.whl (335kB)\n",
      "\u001b[K     |████████████████████████████████| 337kB 43.3MB/s \n",
      "\u001b[?25hBuilding wheels for collected packages: psutil, pyyaml\n",
      "  Building wheel for psutil (setup.py) ... \u001b[?25l\u001b[?25hdone\n",
      "  Created wheel for psutil: filename=psutil-5.7.3-cp36-cp36m-linux_x86_64.whl size=281529 sha256=5f916875f5726ee148572339b5b390cd5399341482f54029f08576ff0449537b\n",
      "  Stored in directory: /root/.cache/pip/wheels/42/32/da/8b12fd6b138c733efd03cfde6c6c8191a32842f9e82aa45fbf\n",
      "  Building wheel for pyyaml (setup.py) ... \u001b[?25l\u001b[?25hdone\n",
      "  Created wheel for pyyaml: filename=PyYAML-5.3.1-cp36-cp36m-linux_x86_64.whl size=44619 sha256=b6ca678e0bce212f8d5c98a157b9effc7f1b541d10b4fedd2b793e966fdff707\n",
      "  Stored in directory: /root/.cache/pip/wheels/a7/c1/ea/cf5bd31012e735dc1dfea3131a2d5eae7978b251083d6247bd\n",
      "Successfully built psutil pyyaml\n",
      "\u001b[31mERROR: tensorflow-probability 0.11.0 has requirement cloudpickle==1.3, but you'll have cloudpickle 1.2.1 which is incompatible.\u001b[0m\n",
      "\u001b[31mERROR: paddlepaddle 1.6.3 has requirement numpy<=1.16.4,>=1.12, but you'll have numpy 1.18.5 which is incompatible.\u001b[0m\n",
      "Installing collected packages: psutil, pyarrow, tb-nightly, pyzmq, pycryptodome, bce-python-sdk, appdirs, distlib, virtualenv, nodeenv, identify, pyyaml, cfgv, pre-commit, Flask-Babel, pycodestyle, pyflakes, mccabe, flake8, visualdl, cloudpickle, tensorboardX, flask-cors, parl\n",
      "  Found existing installation: psutil 5.4.8\n",
      "    Uninstalling psutil-5.4.8:\n",
      "      Successfully uninstalled psutil-5.4.8\n",
      "  Found existing installation: pyarrow 0.14.1\n",
      "    Uninstalling pyarrow-0.14.1:\n",
      "      Successfully uninstalled pyarrow-0.14.1\n",
      "  Found existing installation: pyzmq 19.0.2\n",
      "    Uninstalling pyzmq-19.0.2:\n",
      "      Successfully uninstalled pyzmq-19.0.2\n",
      "  Found existing installation: PyYAML 3.13\n",
      "    Uninstalling PyYAML-3.13:\n",
      "      Successfully uninstalled PyYAML-3.13\n",
      "  Found existing installation: cloudpickle 1.3.0\n",
      "    Uninstalling cloudpickle-1.3.0:\n",
      "      Successfully uninstalled cloudpickle-1.3.0\n",
      "Successfully installed Flask-Babel-2.0.0 appdirs-1.4.4 bce-python-sdk-0.8.49 cfgv-3.2.0 cloudpickle-1.2.1 distlib-0.3.1 flake8-3.8.4 flask-cors-3.0.9 identify-1.5.7 mccabe-0.6.1 nodeenv-1.5.0 parl-1.3.1 pre-commit-2.8.2 psutil-5.7.3 pyarrow-0.13.0 pycodestyle-2.6.0 pycryptodome-3.9.9 pyflakes-2.2.0 pyyaml-5.3.1 pyzmq-18.0.1 tb-nightly-1.15.0a20190801 tensorboardX-1.8 virtualenv-20.1.0 visualdl-2.0.4\n"
     ]
    },
    {
     "data": {},
     "metadata": {},
     "output_type": "display_data"
    }
   ],
   "source": [
    "!pip install gym\n",
    "!pip install atari-py # 玩Gym的Atari游戏必装依赖，本次作业使用了Atari的Pong(乒乓球)环境\n",
    "!pip install paddlepaddle==1.6.3\n",
    "!pip install parl==1.3.1"
   ]
  },
  {
   "cell_type": "markdown",
   "metadata": {
    "collapsed": false
   },
   "source": [
    "# Step2 导入依赖"
   ]
  },
  {
   "cell_type": "code",
   "execution_count": null,
   "metadata": {
    "collapsed": false
   },
   "outputs": [],
   "source": [
    "import os\n",
    "import gym\n",
    "import numpy as np\n",
    "\n",
    "import paddle.fluid as fluid\n",
    "import parl\n",
    "from parl import layers\n",
    "from parl.utils import logger"
   ]
  },
  {
   "cell_type": "markdown",
   "metadata": {
    "collapsed": false
   },
   "source": [
    "# Step3 设置超参数"
   ]
  },
  {
   "cell_type": "code",
   "execution_count": null,
   "metadata": {
    "collapsed": false
   },
   "outputs": [],
   "source": [
    "LEARNING_RATE = 1e-3"
   ]
  },
  {
   "cell_type": "markdown",
   "metadata": {
    "collapsed": false
   },
   "source": [
    "# Step4 搭建Model、Algorithm、Agent架构\n",
    "* `Agent`把产生的数据传给`algorithm`，`algorithm`根据`model`的模型结构计算出`Loss`，使用`SGD`或者其他优化器不断的优化，`PARL`这种架构可以很方便的应用在各类深度强化学习问题中。\n",
    "\n",
    "#### （1）Model\n",
    "`Model`用来定义前向(`Forward`)网络，用户可以自由的定制自己的网络结构。"
   ]
  },
  {
   "cell_type": "code",
   "execution_count": null,
   "metadata": {
    "collapsed": false
   },
   "outputs": [],
   "source": [
    "class Model(parl.Model):\n",
    "    def __init__(self, act_dim):\n",
    "        self.act_dim = act_dim\n",
    "        hid_size = act_dim * 10\n",
    "        self.fc1 = layers.fc(size=hid_size, act='tanh')\n",
    "        self.fc2 = layers.fc(size=hid_size, act='tanh')\n",
    "        self.fc3 = layers.fc(size=self.act_dim, act='softmax')\n",
    "\n",
    "    def forward(self, obs):  # 可直接用 model = Model(5); model(obs)调用\n",
    "        out = self.fc1(obs)\n",
    "        out = self.fc2(out)\n",
    "        out = self.fc3(out)\n",
    "        return out"
   ]
  },
  {
   "cell_type": "markdown",
   "metadata": {
    "collapsed": false
   },
   "source": [
    "#### （2）Algorithm\n",
    "* `Algorithm` 定义了具体的算法来更新前向网络(`Model`)，也就是通过定义损失函数来更新`Model`，和算法相关的计算都放在`algorithm`中。"
   ]
  },
  {
   "cell_type": "code",
   "execution_count": null,
   "metadata": {
    "collapsed": false
   },
   "outputs": [],
   "source": [
    "from parl.algorithms import PolicyGradient # 直接从parl库中导入PolicyGradient算法，无需重复写算法"
   ]
  },
  {
   "cell_type": "markdown",
   "metadata": {
    "collapsed": false
   },
   "source": [
    "#### （3）Agent\n",
    "* `Agent`负责算法与环境的交互，在交互过程中把生成的数据提供给`Algorithm`来更新模型(`Model`)，数据的预处理流程也一般定义在这里。"
   ]
  },
  {
   "cell_type": "code",
   "execution_count": null,
   "metadata": {
    "collapsed": false
   },
   "outputs": [],
   "source": [
    "class Agent(parl.Agent):\n",
    "    def __init__(self, algorithm, obs_dim, act_dim):\n",
    "        self.obs_dim = obs_dim\n",
    "        self.act_dim = act_dim\n",
    "        super(Agent, self).__init__(algorithm)\n",
    "\n",
    "    def build_program(self):\n",
    "        self.pred_program = fluid.Program()\n",
    "        self.learn_program = fluid.Program()\n",
    "\n",
    "        with fluid.program_guard(self.pred_program):  # 搭建计算图用于 预测动作，定义输入输出变量\n",
    "            obs = layers.data(\n",
    "                name='obs', shape=[self.obs_dim], dtype='float32')\n",
    "            self.act_prob = self.alg.predict(obs)\n",
    "\n",
    "        with fluid.program_guard(\n",
    "                self.learn_program):  # 搭建计算图用于 更新policy网络，定义输入输出变量\n",
    "            obs = layers.data(\n",
    "                name='obs', shape=[self.obs_dim], dtype='float32')\n",
    "            act = layers.data(name='act', shape=[1], dtype='int64')\n",
    "            reward = layers.data(name='reward', shape=[], dtype='float32')\n",
    "            self.cost = self.alg.learn(obs, act, reward)\n",
    "\n",
    "    def sample(self, obs):\n",
    "        obs = np.expand_dims(obs, axis=0)  # 增加一维维度\n",
    "        act_prob = self.fluid_executor.run(\n",
    "            self.pred_program,\n",
    "            feed={'obs': obs.astype('float32')},\n",
    "            fetch_list=[self.act_prob])[0]\n",
    "        act_prob = np.squeeze(act_prob, axis=0)  # 减少一维维度\n",
    "        act = np.random.choice(range(self.act_dim), p=act_prob)  # 根据动作概率选取动作\n",
    "        return act\n",
    "\n",
    "    def predict(self, obs):\n",
    "        obs = np.expand_dims(obs, axis=0)\n",
    "        act_prob = self.fluid_executor.run(\n",
    "            self.pred_program,\n",
    "            feed={'obs': obs.astype('float32')},\n",
    "            fetch_list=[self.act_prob])[0]\n",
    "        act_prob = np.squeeze(act_prob, axis=0)\n",
    "        act = np.argmax(act_prob)  # 根据动作概率选择概率最高的动作\n",
    "        return act\n",
    "\n",
    "    def learn(self, obs, act, reward):\n",
    "        act = np.expand_dims(act, axis=-1)\n",
    "        feed = {\n",
    "            'obs': obs.astype('float32'),\n",
    "            'act': act.astype('int64'),\n",
    "            'reward': reward.astype('float32')\n",
    "        }\n",
    "        cost = self.fluid_executor.run(\n",
    "            self.learn_program, feed=feed, fetch_list=[self.cost])[0]\n",
    "        return cost"
   ]
  },
  {
   "cell_type": "markdown",
   "metadata": {
    "collapsed": false
   },
   "source": [
    "### Step 5 Training && Test（训练&&测试）"
   ]
  },
  {
   "cell_type": "code",
   "execution_count": null,
   "metadata": {
    "collapsed": false
   },
   "outputs": [],
   "source": [
    "def run_episode(env, agent):\n",
    "    obs_list, action_list, reward_list = [], [], []\n",
    "    obs = env.reset()\n",
    "    while True:\n",
    "        obs = preprocess(obs) # from shape (210, 160, 3) to (100800,)\n",
    "        obs_list.append(obs)\n",
    "        action = agent.sample(obs) # 采样动作\n",
    "        action_list.append(action)\n",
    "\n",
    "        obs, reward, done, info = env.step(action)\n",
    "        reward_list.append(reward)\n",
    "\n",
    "        if done:\n",
    "            break\n",
    "    return obs_list, action_list, reward_list\n",
    "\n",
    "\n",
    "# 评估 agent, 跑 5 个episode，求平均\n",
    "def evaluate(env, agent, render=False):\n",
    "    eval_reward = []\n",
    "    for i in range(5):\n",
    "        obs = env.reset()\n",
    "        episode_reward = 0\n",
    "        while True:\n",
    "            obs = preprocess(obs) # from shape (210, 160, 3) to (100800,)\n",
    "            action = agent.predict(obs) # 选取最优动作\n",
    "            obs, reward, isOver, _ = env.step(action)\n",
    "            episode_reward += reward\n",
    "            if render:\n",
    "                env.render()\n",
    "            if isOver:\n",
    "                break\n",
    "        eval_reward.append(episode_reward)\n",
    "    return np.mean(eval_reward)"
   ]
  },
  {
   "cell_type": "markdown",
   "metadata": {
    "collapsed": false
   },
   "source": [
    "### Step6 创建环境和Agent，启动训练，保存模型"
   ]
  },
  {
   "cell_type": "code",
   "execution_count": null,
   "metadata": {
    "collapsed": false
   },
   "outputs": [
    {
     "name": "stdout",
     "output_type": "stream",
     "text": [
      "\u001b[32m[11-03 08:11:27 MainThread @<ipython-input-13-85df6f6c0b74>:29]\u001b[0m obs_dim 6400, act_dim 6\n",
      "\u001b[32m[11-03 08:11:27 MainThread @machine_info.py:88]\u001b[0m Cannot find available GPU devices, using CPU now.\n",
      "\u001b[32m[11-03 08:11:27 MainThread @machine_info.py:88]\u001b[0m Cannot find available GPU devices, using CPU now.\n",
      "\u001b[32m[11-03 08:18:28 MainThread @<ipython-input-13-85df6f6c0b74>:62]\u001b[0m Episode 100, Test reward: -19.8\n",
      "\u001b[32m[11-03 08:28:06 MainThread @<ipython-input-13-85df6f6c0b74>:62]\u001b[0m Episode 200, Test reward: -15.4\n",
      "\u001b[32m[11-03 08:40:55 MainThread @<ipython-input-13-85df6f6c0b74>:62]\u001b[0m Episode 300, Test reward: -13.0\n",
      "\u001b[32m[11-03 08:55:22 MainThread @<ipython-input-13-85df6f6c0b74>:62]\u001b[0m Episode 400, Test reward: -12.8\n",
      "\u001b[32m[11-03 09:10:34 MainThread @<ipython-input-13-85df6f6c0b74>:62]\u001b[0m Episode 500, Test reward: -13.2\n",
      "\u001b[32m[11-03 09:25:20 MainThread @<ipython-input-13-85df6f6c0b74>:62]\u001b[0m Episode 600, Test reward: -12.8\n",
      "\u001b[32m[11-03 09:40:18 MainThread @<ipython-input-13-85df6f6c0b74>:62]\u001b[0m Episode 700, Test reward: -12.6\n",
      "\u001b[32m[11-03 09:55:21 MainThread @<ipython-input-13-85df6f6c0b74>:62]\u001b[0m Episode 800, Test reward: -10.6\n",
      "\u001b[32m[11-03 10:11:44 MainThread @<ipython-input-13-85df6f6c0b74>:62]\u001b[0m Episode 900, Test reward: -9.6\n",
      "\u001b[32m[11-03 10:28:03 MainThread @<ipython-input-13-85df6f6c0b74>:62]\u001b[0m Episode 1000, Test reward: -8.2\n"
     ]
    }
   ],
   "source": [
    "# Pong 图片预处理\n",
    "def preprocess(image):\n",
    "    \"\"\" 预处理 210x160x3 uint8 frame into 6400 (80x80) 1维 float vector \"\"\"\n",
    "    image = image[35:195] # 裁剪\n",
    "    image = image[::2,::2,0] # 下采样，缩放2倍\n",
    "    image[image == 144] = 0 # 擦除背景 (background type 1)\n",
    "    image[image == 109] = 0 # 擦除背景 (background type 2)\n",
    "    image[image != 0] = 1 # 转为灰度图，除了黑色外其他都是白色\n",
    "    return image.astype(np.float).ravel()\n",
    "\n",
    "\n",
    "# 根据一个episode的每个step的reward列表，计算每一个Step的Gt\n",
    "def calc_reward_to_go(reward_list, gamma=0.99):\n",
    "    \"\"\"calculate discounted reward\"\"\"\n",
    "    reward_arr = np.array(reward_list)\n",
    "    for i in range(len(reward_arr) - 2, -1, -1):\n",
    "        # G_t = r_t + γ·r_t+1 + ... = r_t + γ·G_t+1\n",
    "        reward_arr[i] += gamma * reward_arr[i + 1]\n",
    "    # normalize episode rewards\n",
    "    reward_arr -= np.mean(reward_arr)\n",
    "    reward_arr /= np.std(reward_arr)\n",
    "    return reward_arr\n",
    "\n",
    "\n",
    "# 创建环境\n",
    "env = gym.make('Pong-v0')\n",
    "obs_dim = 80 * 80\n",
    "act_dim = env.action_space.n\n",
    "logger.info('obs_dim {}, act_dim {}'.format(obs_dim, act_dim))\n",
    "\n",
    "# 根据parl框架构建agent\n",
    "######################################################################\n",
    "######################################################################\n",
    "#\n",
    "# 4. 请参考课堂Demo构建 agent，嵌套Model, PolicyGradient, Agent\n",
    "#\n",
    "######################################################################\n",
    "######################################################################\n",
    "model = Model(act_dim)\n",
    "alg = PolicyGradient(model, LEARNING_RATE)\n",
    "agent = Agent(alg, obs_dim, act_dim)\n",
    "\n",
    "\n",
    "# 加载模型\n",
    "# if os.path.exists('./model.ckpt'):\n",
    "#     agent.restore('./model.ckpt')\n",
    "\n",
    "for i in range(1000):\n",
    "    obs_list, action_list, reward_list = run_episode(env, agent)\n",
    "    # if i % 10 == 0:\n",
    "    #     logger.info(\"Train Episode {}, Reward Sum {}.\".format(i, \n",
    "    #                                         sum(reward_list)))\n",
    "\n",
    "    batch_obs = np.array(obs_list)\n",
    "    batch_action = np.array(action_list)\n",
    "    batch_reward = calc_reward_to_go(reward_list)\n",
    "\n",
    "    agent.learn(batch_obs, batch_action, batch_reward)\n",
    "    if (i + 1) % 100 == 0:\n",
    "        total_reward = evaluate(env, agent, render=False)\n",
    "        logger.info('Episode {}, Test reward: {}'.format(i + 1, \n",
    "                                            total_reward))\n",
    "\n",
    "# save the parameters to ./model.ckpt\n",
    "agent.save('./model.ckpt')"
   ]
  }
 ],
 "metadata": {
  "kernelspec": {
   "display_name": "PaddlePaddle 1.7.2 (Python 3.5)",
   "language": "python",
   "name": "py35-paddle1.2.0"
  },
  "language_info": {
   "codemirror_mode": {
    "name": "ipython",
    "version": 3
   },
   "file_extension": ".py",
   "mimetype": "text/x-python",
   "name": "python",
   "nbconvert_exporter": "python",
   "pygments_lexer": "ipython3",
   "version": "3.7.4"
  }
 },
 "nbformat": 4,
 "nbformat_minor": 1
}
