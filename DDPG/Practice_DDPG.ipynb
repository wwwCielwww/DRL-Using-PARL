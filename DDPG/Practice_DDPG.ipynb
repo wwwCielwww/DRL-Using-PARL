{
 "cells": [
  {
   "cell_type": "markdown",
   "metadata": {
    "id": "dm64b5NlUWix"
   },
   "source": [
    "# 大作业：使用DDPG解决四轴飞行器悬浮任务\n",
    "\n",
    "# Step1 安装依赖"
   ]
  },
  {
   "cell_type": "markdown",
   "metadata": {
    "id": "8ZrNDlFFUWjc"
   },
   "source": [
    "# Step2 导入依赖"
   ]
  },
  {
   "cell_type": "code",
   "execution_count": 2,
   "metadata": {
    "id": "S8fM7BxQUWjc"
   },
   "outputs": [],
   "source": [
    "import os\n",
    "import numpy as np\n",
    "\n",
    "import parl\n",
    "from parl import layers\n",
    "from paddle import fluid\n",
    "from parl.utils import logger\n",
    "from parl.utils import action_mapping # 将神经网络输出映射到对应的 实际动作取值范围 内\n",
    "from parl.utils import ReplayMemory # 经验回放\n",
    "\n",
    "from rlschool import make_env  # 使用 RLSchool 创建飞行器环境"
   ]
  },
  {
   "cell_type": "markdown",
   "metadata": {
    "id": "3Dap1CgNUWjh"
   },
   "source": [
    "# Step3 设置超参数"
   ]
  },
  {
   "cell_type": "code",
   "execution_count": 3,
   "metadata": {
    "id": "cxyke53jUWjo"
   },
   "outputs": [],
   "source": [
    "ACTOR_LR = 0.0002 #0.0002  # Actor网络更新的 learning rate\n",
    "CRITIC_LR = 0.001 #0.001  # Critic网络更新的 learning rate\n",
    "\n",
    "GAMMA = 0.99 # 0.99        # reward 的衰减因子，一般取 0.9 到 0.999 不等\n",
    "TAU = 0.001 # 0.001         # target_model 跟 model 同步参数 的 软更新参数\n",
    "MEMORY_SIZE = 1e6   # replay memory的大小，越大越占用内存\n",
    "MEMORY_WARMUP_SIZE = 1e4      # replay_memory 里需要预存一些经验数据，再从里面sample一个batch的经验让agent去learn\n",
    "REWARD_SCALE = 0.01       # reward 的缩放因子 0.01\n",
    "BATCH_SIZE = 256          # 每次给agent learn的数据数量，从replay memory随机里sample一批数据出来\n",
    "TRAIN_TOTAL_STEPS = 1e6   # 总训练步数\n",
    "TEST_EVERY_STEPS = 1e4    # 每个N步评估一下算法效果，每次评估5个episode求平均reward"
   ]
  },
  {
   "cell_type": "markdown",
   "metadata": {
    "id": "qL4pkBUaUWjs"
   },
   "source": [
    "# Step4 搭建Model、Algorithm、Agent架构\n",
    "* `Agent`把产生的数据传给`algorithm`，`algorithm`根据`model`的模型结构计算出`Loss`，使用`SGD`或者其他优化器不断的优化，`PARL`这种架构可以很方便的应用在各类深度强化学习问题中。\n",
    "\n",
    "## （1）Model\n",
    "* 分别搭建`Actor`、`Critic`的`Model`结构，构建`QuadrotorModel`。"
   ]
  },
  {
   "cell_type": "code",
   "execution_count": 4,
   "metadata": {
    "id": "Bej__DwOUWjt"
   },
   "outputs": [],
   "source": [
    "class ActorModel(parl.Model):\n",
    "    def __init__(self, act_dim):\n",
    "        hid_size=100\n",
    "        self.fc1=layers.fc(size=hid_size, act='relu')\n",
    "        self.fc2=layers.fc(size=act_dim, act='tanh')\n",
    "\n",
    "    def policy(self, obs):\n",
    "        hid=self.fc1(obs)\n",
    "        logits=self.fc2(hid)\n",
    "        return logits"
   ]
  },
  {
   "cell_type": "code",
   "execution_count": 5,
   "metadata": {
    "id": "ggPBIXSPUWj0"
   },
   "outputs": [],
   "source": [
    "class CriticModel(parl.Model):\n",
    "    def __init__(self):\n",
    "        hid_size=100\n",
    "        self.fc1=layers.fc(size=hid_size,act='relu')\n",
    "        self.fc2=layers.fc(size=1,act=None)\n",
    "\n",
    "    def value(self, obs, act):\n",
    "        concat=layers.concat([obs,act],axis=1)\n",
    "        hid=self.fc1(concat)\n",
    "        Q=self.fc2(hid)\n",
    "        Q=layers.squeeze(Q,axes=[1])\n",
    "        return Q"
   ]
  },
  {
   "cell_type": "code",
   "execution_count": 6,
   "metadata": {
    "id": "4yz-CFKdUWj-"
   },
   "outputs": [],
   "source": [
    "class QuadrotorModel(parl.Model):\n",
    "    def __init__(self, act_dim):\n",
    "        self.actor_model = ActorModel(act_dim)\n",
    "        self.critic_model = CriticModel()\n",
    "\n",
    "    def policy(self, obs):\n",
    "        return self.actor_model.policy(obs)\n",
    "\n",
    "    def value(self, obs, act):\n",
    "        return self.critic_model.value(obs, act)\n",
    "\n",
    "    def get_actor_params(self):\n",
    "        return self.actor_model.parameters()"
   ]
  },
  {
   "cell_type": "markdown",
   "metadata": {
    "id": "ypu4yc4VUWkG"
   },
   "source": [
    "## （2）Algorithm\n",
    "* 可以采用下面的方式从`parl`库中快速引入`DDPG`算法，无需自己重新写算法"
   ]
  },
  {
   "cell_type": "code",
   "execution_count": 7,
   "metadata": {
    "id": "UKqieUaIUWkI"
   },
   "outputs": [],
   "source": [
    "from parl.algorithms import DDPG"
   ]
  },
  {
   "cell_type": "markdown",
   "metadata": {
    "id": "A6djhPMPUWkP"
   },
   "source": [
    "## （3）Agent"
   ]
  },
  {
   "cell_type": "code",
   "execution_count": 8,
   "metadata": {
    "id": "WDyZvAzeUWkR"
   },
   "outputs": [],
   "source": [
    "class QuadrotorAgent(parl.Agent):\n",
    "    def __init__(self, algorithm, obs_dim, act_dim=4):\n",
    "        assert isinstance(obs_dim, int)\n",
    "        assert isinstance(act_dim, int)\n",
    "        self.obs_dim = obs_dim\n",
    "        self.act_dim = act_dim\n",
    "        super(QuadrotorAgent, self).__init__(algorithm)\n",
    "\n",
    "        # 注意，在最开始的时候，先完全同步target_model和model的参数\n",
    "        self.alg.sync_target(decay=0)\n",
    "\n",
    "    def build_program(self):\n",
    "        self.pred_program = fluid.Program()\n",
    "        self.learn_program = fluid.Program()\n",
    "\n",
    "        with fluid.program_guard(self.pred_program):\n",
    "            obs = layers.data(\n",
    "                name='obs', shape=[self.obs_dim], dtype='float32')\n",
    "            self.pred_act = self.alg.predict(obs)\n",
    "\n",
    "        with fluid.program_guard(self.learn_program):\n",
    "            obs = layers.data(\n",
    "                name='obs', shape=[self.obs_dim], dtype='float32')\n",
    "            act = layers.data(\n",
    "                name='act', shape=[self.act_dim], dtype='float32')\n",
    "            reward = layers.data(name='reward', shape=[], dtype='float32')\n",
    "            next_obs = layers.data(\n",
    "                name='next_obs', shape=[self.obs_dim], dtype='float32')\n",
    "            terminal = layers.data(name='terminal', shape=[], dtype='bool')\n",
    "            _, self.critic_cost = self.alg.learn(obs, act, reward, next_obs,\n",
    "                                                 terminal)\n",
    "\n",
    "    def predict(self, obs):\n",
    "        obs = np.expand_dims(obs, axis=0)\n",
    "        act = self.fluid_executor.run(\n",
    "            self.pred_program, feed={'obs': obs},\n",
    "            fetch_list=[self.pred_act])[0]\n",
    "        return act\n",
    "\n",
    "    def learn(self, obs, act, reward, next_obs, terminal):\n",
    "        feed = {\n",
    "            'obs': obs,\n",
    "            'act': act,\n",
    "            'reward': reward,\n",
    "            'next_obs': next_obs,\n",
    "            'terminal': terminal\n",
    "        }\n",
    "        critic_cost = self.fluid_executor.run(\n",
    "            self.learn_program, feed=feed, fetch_list=[self.critic_cost])[0]\n",
    "        self.alg.sync_target()\n",
    "        return critic_cost"
   ]
  },
  {
   "cell_type": "markdown",
   "metadata": {
    "id": "cIoM8G9YUWkY"
   },
   "source": [
    "\n",
    "# Step4 Training && Test（训练&&测试）"
   ]
  },
  {
   "cell_type": "code",
   "execution_count": 9,
   "metadata": {
    "id": "zPcSfGyGUWkZ"
   },
   "outputs": [],
   "source": [
    "def run_episode(env, agent, rpm):\n",
    "    obs = env.reset()\n",
    "    total_reward, steps = 0, 0\n",
    "    while True:\n",
    "        steps += 1\n",
    "        batch_obs = np.expand_dims(obs, axis=0)\n",
    "        action = agent.predict(batch_obs.astype('float32'))\n",
    "        action = np.squeeze(action)\n",
    "\n",
    "        # 给输出动作增加探索扰动，输出限制在 [-1.0, 1.0] 范围内\n",
    "        action = np.clip(np.random.normal(action, 1.0), -1.0, 1.0)\n",
    "        #action=np.random.normal(action, 1.0)\n",
    "        #act_m=np.mean(action)\n",
    "        #action=np.clip(0.1*(action-act_m)+act_m,-1.0,1.0)\n",
    "        # 动作映射到对应的 实际动作取值范围 内, action_mapping是从parl.utils那里import进来的函数\n",
    "        action_c = action_mapping(action, env.action_space.low[0],\n",
    "                                env.action_space.high[0])\n",
    "\n",
    "        next_obs, reward, done, info = env.step(action_c)\n",
    "        rpm.append(obs, action, REWARD_SCALE * reward, next_obs, done)\n",
    "\n",
    "        if rpm.size() > MEMORY_WARMUP_SIZE:\n",
    "            batch_obs, batch_action, batch_reward, batch_next_obs, \\\n",
    "                    batch_terminal = rpm.sample_batch(BATCH_SIZE)\n",
    "            critic_cost = agent.learn(batch_obs, batch_action, batch_reward,\n",
    "                                      batch_next_obs, batch_terminal)\n",
    "\n",
    "        obs = next_obs\n",
    "        total_reward += reward\n",
    "\n",
    "        if done:\n",
    "            break\n",
    "    return total_reward, steps\n",
    "\n",
    "# 评估 agent, 跑 5 个episode，总reward求平均\n",
    "def evaluate(env, agent):\n",
    "    eval_reward = []\n",
    "    for i in range(5):\n",
    "        obs = env.reset()\n",
    "        total_reward, steps = 0, 0\n",
    "        while True:\n",
    "            batch_obs = np.expand_dims(obs, axis=0)\n",
    "            action = agent.predict(batch_obs.astype('float32'))\n",
    "            action = np.squeeze(action)\n",
    "            action=np.clip(action,-1.0,1.0)\n",
    "            #act_m=np.mean(action)\n",
    "            #action=np.clip(0.1*(action-act_m)+act_m,-1.0,1.0)\n",
    "            action_c = action_mapping(action, env.action_space.low[0], \n",
    "                                    env.action_space.high[0])\n",
    "\n",
    "            next_obs, reward, done, info = env.step(action_c)\n",
    "\n",
    "            obs = next_obs\n",
    "            total_reward += reward\n",
    "            steps += 1\n",
    "\n",
    "            if done:\n",
    "                break\n",
    "        eval_reward.append(total_reward)\n",
    "    return np.mean(eval_reward)"
   ]
  },
  {
   "cell_type": "markdown",
   "metadata": {
    "id": "0zKWZ1agUWkg"
   },
   "source": [
    "# Step 5 创建环境和Agent，创建经验池，启动训练，定期保存模型"
   ]
  },
  {
   "cell_type": "code",
   "execution_count": 10,
   "metadata": {
    "colab": {
     "base_uri": "https://localhost:8080/"
    },
    "id": "hgU0yho6UWkh",
    "outputId": "cbfcf811-0ab4-488f-c113-5c92e632c2c6"
   },
   "outputs": [
    {
     "name": "stdout",
     "output_type": "stream",
     "text": [
      "\u001b[32m[11-11 05:55:26 MainThread @machine_info.py:88]\u001b[0m Cannot find available GPU devices, using CPU now.\n",
      "\u001b[32m[11-11 05:55:26 MainThread @machine_info.py:88]\u001b[0m Cannot find available GPU devices, using CPU now.\n",
      "\u001b[32m[11-11 05:55:26 MainThread @machine_info.py:88]\u001b[0m Cannot find available GPU devices, using CPU now.\n",
      "['fc.b_0', 'fc.w_0', 'fc.b_1', 'fc.w_1']\n"
     ]
    }
   ],
   "source": [
    "# 创建飞行器环境\n",
    "env = make_env(\"Quadrotor\", task=\"hovering_control\")\n",
    "env.reset()\n",
    "obs_dim = env.observation_space.shape[0]\n",
    "act_dim = env.action_space.shape[0]\n",
    "\n",
    "model = QuadrotorModel(act_dim)\n",
    "algorithm = DDPG(model,gamma=GAMMA,tau=TAU,actor_lr=ACTOR_LR,critic_lr=CRITIC_LR)\n",
    "agent = QuadrotorAgent(algorithm,obs_dim,act_dim)\n",
    "print(model.get_actor_params())\n",
    "\n",
    "# parl库也为DDPG算法内置了ReplayMemory，可直接从 parl.utils 引入使用\n",
    "rpm = ReplayMemory(int(MEMORY_SIZE), obs_dim, act_dim)"
   ]
  },
  {
   "cell_type": "code",
   "execution_count": 11,
   "metadata": {
    "colab": {
     "base_uri": "https://localhost:8080/",
     "height": 1000
    },
    "id": "ZXo7aHtXUWkm",
    "outputId": "99e6b63e-a62f-4547-a41c-0d9d3db1cb91"
   },
   "outputs": [
    {
     "name": "stdout",
     "output_type": "stream",
     "text": [
      "\u001b[32m[11-11 05:55:39 MainThread @<ipython-input-11-121f71a64b17>:18]\u001b[0m Steps 154, Test reward: -971.6969081731684\n",
      "\u001b[32m[11-11 05:58:08 MainThread @machine_info.py:88]\u001b[0m Cannot find available GPU devices, using CPU now.\n",
      "\u001b[32m[11-11 05:58:19 MainThread @<ipython-input-11-121f71a64b17>:18]\u001b[0m Steps 10010, Test reward: -653.6626431189692\n",
      "\u001b[32m[11-11 06:04:44 MainThread @<ipython-input-11-121f71a64b17>:18]\u001b[0m Steps 20240, Test reward: -764.6431614232498\n",
      "\u001b[32m[11-11 06:11:16 MainThread @<ipython-input-11-121f71a64b17>:18]\u001b[0m Steps 30097, Test reward: -4753.200002964781\n",
      "\u001b[32m[11-11 06:17:47 MainThread @<ipython-input-11-121f71a64b17>:18]\u001b[0m Steps 40002, Test reward: -2821.4174107424938\n",
      "\u001b[32m[11-11 06:24:33 MainThread @<ipython-input-11-121f71a64b17>:18]\u001b[0m Steps 50211, Test reward: -1099.677458459299\n",
      "\u001b[32m[11-11 06:31:56 MainThread @<ipython-input-11-121f71a64b17>:18]\u001b[0m Steps 60624, Test reward: -7061.845061537026\n",
      "\u001b[32m[11-11 06:39:36 MainThread @<ipython-input-11-121f71a64b17>:18]\u001b[0m Steps 70909, Test reward: -2074.933926425364\n",
      "\u001b[32m[11-11 06:46:45 MainThread @<ipython-input-11-121f71a64b17>:18]\u001b[0m Steps 80370, Test reward: -198.6345867824751\n",
      "\u001b[32m[11-11 06:53:51 MainThread @<ipython-input-11-121f71a64b17>:18]\u001b[0m Steps 90192, Test reward: -3855.3529437805564\n",
      "\u001b[32m[11-11 07:01:33 MainThread @<ipython-input-11-121f71a64b17>:18]\u001b[0m Steps 100248, Test reward: -2081.7202688561792\n",
      "\u001b[32m[11-11 07:08:12 MainThread @<ipython-input-11-121f71a64b17>:18]\u001b[0m Steps 110069, Test reward: -1882.3244928198515\n",
      "\u001b[32m[11-11 07:15:14 MainThread @<ipython-input-11-121f71a64b17>:18]\u001b[0m Steps 120069, Test reward: -2.590439078014606\n",
      "\u001b[32m[11-11 07:22:12 MainThread @<ipython-input-11-121f71a64b17>:18]\u001b[0m Steps 130069, Test reward: -2828.156418884419\n",
      "\u001b[32m[11-11 07:28:30 MainThread @<ipython-input-11-121f71a64b17>:18]\u001b[0m Steps 140069, Test reward: -466.8106272771456\n",
      "\u001b[32m[11-11 07:35:13 MainThread @<ipython-input-11-121f71a64b17>:18]\u001b[0m Steps 150069, Test reward: 523.8753929407691\n",
      "\u001b[32m[11-11 07:42:13 MainThread @<ipython-input-11-121f71a64b17>:18]\u001b[0m Steps 160069, Test reward: 195.40112448459166\n",
      "\u001b[32m[11-11 07:49:29 MainThread @<ipython-input-11-121f71a64b17>:18]\u001b[0m Steps 170842, Test reward: -2306.4251387566123\n",
      "\u001b[32m[11-11 07:56:21 MainThread @<ipython-input-11-121f71a64b17>:18]\u001b[0m Steps 180589, Test reward: -2314.933381796384\n",
      "\u001b[32m[11-11 08:03:03 MainThread @<ipython-input-11-121f71a64b17>:18]\u001b[0m Steps 190271, Test reward: -1579.4786911112246\n",
      "\u001b[32m[11-11 08:09:46 MainThread @<ipython-input-11-121f71a64b17>:18]\u001b[0m Steps 200145, Test reward: 1779.747063143149\n",
      "\u001b[32m[11-11 08:17:02 MainThread @<ipython-input-11-121f71a64b17>:18]\u001b[0m Steps 210390, Test reward: 1806.5917398809986\n",
      "\u001b[32m[11-11 08:24:09 MainThread @<ipython-input-11-121f71a64b17>:18]\u001b[0m Steps 220217, Test reward: 823.5327161247242\n",
      "\u001b[32m[11-11 08:30:57 MainThread @<ipython-input-11-121f71a64b17>:18]\u001b[0m Steps 230002, Test reward: 1686.1396515566878\n",
      "\u001b[32m[11-11 08:38:19 MainThread @<ipython-input-11-121f71a64b17>:18]\u001b[0m Steps 240688, Test reward: 970.2041745289205\n",
      "\u001b[32m[11-11 08:45:25 MainThread @<ipython-input-11-121f71a64b17>:18]\u001b[0m Steps 250598, Test reward: -1379.5271485234994\n",
      "\u001b[32m[11-11 08:52:36 MainThread @<ipython-input-11-121f71a64b17>:18]\u001b[0m Steps 260522, Test reward: 6061.716382290057\n",
      "\u001b[32m[11-11 08:59:35 MainThread @<ipython-input-11-121f71a64b17>:18]\u001b[0m Steps 270274, Test reward: 259.29657483666017\n",
      "\u001b[32m[11-11 09:06:34 MainThread @<ipython-input-11-121f71a64b17>:18]\u001b[0m Steps 280091, Test reward: -222.77188040847895\n",
      "\u001b[32m[11-11 09:14:14 MainThread @<ipython-input-11-121f71a64b17>:18]\u001b[0m Steps 290792, Test reward: -715.8724415514829\n",
      "\u001b[32m[11-11 09:21:18 MainThread @<ipython-input-11-121f71a64b17>:18]\u001b[0m Steps 300680, Test reward: 824.3194832068173\n",
      "\u001b[32m[11-11 09:28:28 MainThread @<ipython-input-11-121f71a64b17>:18]\u001b[0m Steps 310680, Test reward: 6858.858241406793\n",
      "\u001b[32m[11-11 09:35:31 MainThread @<ipython-input-11-121f71a64b17>:18]\u001b[0m Steps 320533, Test reward: 7948.910472483061\n",
      "\u001b[32m[11-11 09:42:42 MainThread @<ipython-input-11-121f71a64b17>:18]\u001b[0m Steps 330652, Test reward: 8296.835485928601\n",
      "\u001b[32m[11-11 09:49:40 MainThread @<ipython-input-11-121f71a64b17>:18]\u001b[0m Steps 340327, Test reward: 8569.388976926708\n",
      "\u001b[32m[11-11 09:57:06 MainThread @<ipython-input-11-121f71a64b17>:18]\u001b[0m Steps 350922, Test reward: 8724.767394229128\n",
      "\u001b[32m[11-11 10:04:11 MainThread @<ipython-input-11-121f71a64b17>:18]\u001b[0m Steps 360922, Test reward: 8643.057657002244\n"
     ]
    },
    {
     "ename": "KeyboardInterrupt",
     "evalue": "ignored",
     "output_type": "error",
     "traceback": [
      "\u001b[0;31m---------------------------------------------------------------------------\u001b[0m",
      "\u001b[0;31mKeyboardInterrupt\u001b[0m                         Traceback (most recent call last)",
      "\u001b[0;32m<ipython-input-11-121f71a64b17>\u001b[0m in \u001b[0;36m<module>\u001b[0;34m()\u001b[0m\n\u001b[1;32m      6\u001b[0m \u001b[0;31m#     agent.restore('model_dir/steps2_70184.ckpt')\u001b[0m\u001b[0;34m\u001b[0m\u001b[0;34m\u001b[0m\u001b[0;34m\u001b[0m\u001b[0m\n\u001b[1;32m      7\u001b[0m \u001b[0;32mwhile\u001b[0m \u001b[0mtotal_steps\u001b[0m \u001b[0;34m<\u001b[0m \u001b[0mTRAIN_TOTAL_STEPS\u001b[0m\u001b[0;34m:\u001b[0m\u001b[0;34m\u001b[0m\u001b[0;34m\u001b[0m\u001b[0m\n\u001b[0;32m----> 8\u001b[0;31m     \u001b[0mtrain_reward\u001b[0m\u001b[0;34m,\u001b[0m \u001b[0msteps\u001b[0m \u001b[0;34m=\u001b[0m \u001b[0mrun_episode\u001b[0m\u001b[0;34m(\u001b[0m\u001b[0menv\u001b[0m\u001b[0;34m,\u001b[0m \u001b[0magent\u001b[0m\u001b[0;34m,\u001b[0m \u001b[0mrpm\u001b[0m\u001b[0;34m)\u001b[0m\u001b[0;34m\u001b[0m\u001b[0;34m\u001b[0m\u001b[0m\n\u001b[0m\u001b[1;32m      9\u001b[0m     \u001b[0mtotal_steps\u001b[0m \u001b[0;34m+=\u001b[0m \u001b[0msteps\u001b[0m\u001b[0;34m\u001b[0m\u001b[0;34m\u001b[0m\u001b[0m\n\u001b[1;32m     10\u001b[0m     \u001b[0;31m#logger.info('Steps: {} Reward: {}'.format(total_steps, train_reward)) # 打印训练reward\u001b[0m\u001b[0;34m\u001b[0m\u001b[0;34m\u001b[0m\u001b[0;34m\u001b[0m\u001b[0m\n",
      "\u001b[0;32m<ipython-input-9-e8951b8d7a94>\u001b[0m in \u001b[0;36mrun_episode\u001b[0;34m(env, agent, rpm)\u001b[0m\n\u001b[1;32m     23\u001b[0m             \u001b[0mbatch_obs\u001b[0m\u001b[0;34m,\u001b[0m \u001b[0mbatch_action\u001b[0m\u001b[0;34m,\u001b[0m \u001b[0mbatch_reward\u001b[0m\u001b[0;34m,\u001b[0m \u001b[0mbatch_next_obs\u001b[0m\u001b[0;34m,\u001b[0m                     \u001b[0mbatch_terminal\u001b[0m \u001b[0;34m=\u001b[0m \u001b[0mrpm\u001b[0m\u001b[0;34m.\u001b[0m\u001b[0msample_batch\u001b[0m\u001b[0;34m(\u001b[0m\u001b[0mBATCH_SIZE\u001b[0m\u001b[0;34m)\u001b[0m\u001b[0;34m\u001b[0m\u001b[0;34m\u001b[0m\u001b[0m\n\u001b[1;32m     24\u001b[0m             critic_cost = agent.learn(batch_obs, batch_action, batch_reward,\n\u001b[0;32m---> 25\u001b[0;31m                                       batch_next_obs, batch_terminal)\n\u001b[0m\u001b[1;32m     26\u001b[0m \u001b[0;34m\u001b[0m\u001b[0m\n\u001b[1;32m     27\u001b[0m         \u001b[0mobs\u001b[0m \u001b[0;34m=\u001b[0m \u001b[0mnext_obs\u001b[0m\u001b[0;34m\u001b[0m\u001b[0;34m\u001b[0m\u001b[0m\n",
      "\u001b[0;32m<ipython-input-8-dfc46effeeb9>\u001b[0m in \u001b[0;36mlearn\u001b[0;34m(self, obs, act, reward, next_obs, terminal)\u001b[0m\n\u001b[1;32m     47\u001b[0m         }\n\u001b[1;32m     48\u001b[0m         critic_cost = self.fluid_executor.run(\n\u001b[0;32m---> 49\u001b[0;31m             self.learn_program, feed=feed, fetch_list=[self.critic_cost])[0]\n\u001b[0m\u001b[1;32m     50\u001b[0m         \u001b[0mself\u001b[0m\u001b[0;34m.\u001b[0m\u001b[0malg\u001b[0m\u001b[0;34m.\u001b[0m\u001b[0msync_target\u001b[0m\u001b[0;34m(\u001b[0m\u001b[0;34m)\u001b[0m\u001b[0;34m\u001b[0m\u001b[0;34m\u001b[0m\u001b[0m\n\u001b[1;32m     51\u001b[0m         \u001b[0;32mreturn\u001b[0m \u001b[0mcritic_cost\u001b[0m\u001b[0;34m\u001b[0m\u001b[0;34m\u001b[0m\u001b[0m\n",
      "\u001b[0;32m/usr/local/lib/python3.6/dist-packages/paddle/fluid/executor.py\u001b[0m in \u001b[0;36mrun\u001b[0;34m(self, program, feed, fetch_list, feed_var_name, fetch_var_name, scope, return_numpy, use_program_cache, return_merged, use_prune)\u001b[0m\n\u001b[1;32m   1064\u001b[0m                 \u001b[0muse_program_cache\u001b[0m\u001b[0;34m=\u001b[0m\u001b[0muse_program_cache\u001b[0m\u001b[0;34m,\u001b[0m\u001b[0;34m\u001b[0m\u001b[0;34m\u001b[0m\u001b[0m\n\u001b[1;32m   1065\u001b[0m                 \u001b[0muse_prune\u001b[0m\u001b[0;34m=\u001b[0m\u001b[0muse_prune\u001b[0m\u001b[0;34m,\u001b[0m\u001b[0;34m\u001b[0m\u001b[0;34m\u001b[0m\u001b[0m\n\u001b[0;32m-> 1066\u001b[0;31m                 return_merged=return_merged)\n\u001b[0m\u001b[1;32m   1067\u001b[0m         \u001b[0;32mexcept\u001b[0m \u001b[0mException\u001b[0m \u001b[0;32mas\u001b[0m \u001b[0me\u001b[0m\u001b[0;34m:\u001b[0m\u001b[0;34m\u001b[0m\u001b[0;34m\u001b[0m\u001b[0m\n\u001b[1;32m   1068\u001b[0m             \u001b[0;32mif\u001b[0m \u001b[0;32mnot\u001b[0m \u001b[0misinstance\u001b[0m\u001b[0;34m(\u001b[0m\u001b[0me\u001b[0m\u001b[0;34m,\u001b[0m \u001b[0mcore\u001b[0m\u001b[0;34m.\u001b[0m\u001b[0mEOFException\u001b[0m\u001b[0;34m)\u001b[0m\u001b[0;34m:\u001b[0m\u001b[0;34m\u001b[0m\u001b[0;34m\u001b[0m\u001b[0m\n",
      "\u001b[0;32m/usr/local/lib/python3.6/dist-packages/paddle/fluid/executor.py\u001b[0m in \u001b[0;36m_run_impl\u001b[0;34m(self, program, feed, fetch_list, feed_var_name, fetch_var_name, scope, return_numpy, use_program_cache, return_merged, use_prune)\u001b[0m\n\u001b[1;32m   1152\u001b[0m                 \u001b[0mscope\u001b[0m\u001b[0;34m=\u001b[0m\u001b[0mscope\u001b[0m\u001b[0;34m,\u001b[0m\u001b[0;34m\u001b[0m\u001b[0;34m\u001b[0m\u001b[0m\n\u001b[1;32m   1153\u001b[0m                 \u001b[0mreturn_numpy\u001b[0m\u001b[0;34m=\u001b[0m\u001b[0mreturn_numpy\u001b[0m\u001b[0;34m,\u001b[0m\u001b[0;34m\u001b[0m\u001b[0;34m\u001b[0m\u001b[0m\n\u001b[0;32m-> 1154\u001b[0;31m                 use_program_cache=use_program_cache)\n\u001b[0m\u001b[1;32m   1155\u001b[0m \u001b[0;34m\u001b[0m\u001b[0m\n\u001b[1;32m   1156\u001b[0m         \u001b[0mprogram\u001b[0m\u001b[0;34m.\u001b[0m\u001b[0m_compile\u001b[0m\u001b[0;34m(\u001b[0m\u001b[0mscope\u001b[0m\u001b[0;34m,\u001b[0m \u001b[0mself\u001b[0m\u001b[0;34m.\u001b[0m\u001b[0mplace\u001b[0m\u001b[0;34m)\u001b[0m\u001b[0;34m\u001b[0m\u001b[0;34m\u001b[0m\u001b[0m\n",
      "\u001b[0;32m/usr/local/lib/python3.6/dist-packages/paddle/fluid/executor.py\u001b[0m in \u001b[0;36m_run_program\u001b[0;34m(self, program, feed, fetch_list, feed_var_name, fetch_var_name, scope, return_numpy, use_program_cache)\u001b[0m\n\u001b[1;32m   1222\u001b[0m                 \u001b[0mfetch_list\u001b[0m\u001b[0;34m=\u001b[0m\u001b[0mfetch_list\u001b[0m\u001b[0;34m,\u001b[0m\u001b[0;34m\u001b[0m\u001b[0;34m\u001b[0m\u001b[0m\n\u001b[1;32m   1223\u001b[0m                 \u001b[0mfeed_var_name\u001b[0m\u001b[0;34m=\u001b[0m\u001b[0mfeed_var_name\u001b[0m\u001b[0;34m,\u001b[0m\u001b[0;34m\u001b[0m\u001b[0;34m\u001b[0m\u001b[0m\n\u001b[0;32m-> 1224\u001b[0;31m                 fetch_var_name=fetch_var_name)\n\u001b[0m\u001b[1;32m   1225\u001b[0m \u001b[0;34m\u001b[0m\u001b[0m\n\u001b[1;32m   1226\u001b[0m         \u001b[0mself\u001b[0m\u001b[0;34m.\u001b[0m\u001b[0m_feed_data\u001b[0m\u001b[0;34m(\u001b[0m\u001b[0mprogram\u001b[0m\u001b[0;34m,\u001b[0m \u001b[0mfeed\u001b[0m\u001b[0;34m,\u001b[0m \u001b[0mfeed_var_name\u001b[0m\u001b[0;34m,\u001b[0m \u001b[0mscope\u001b[0m\u001b[0;34m)\u001b[0m\u001b[0;34m\u001b[0m\u001b[0;34m\u001b[0m\u001b[0m\n",
      "\u001b[0;32m/usr/local/lib/python3.6/dist-packages/paddle/fluid/executor.py\u001b[0m in \u001b[0;36m_add_feed_fetch_ops\u001b[0;34m(self, program, feed, fetch_list, feed_var_name, fetch_var_name)\u001b[0m\n\u001b[1;32m    607\u001b[0m                         \u001b[0minputs\u001b[0m\u001b[0;34m=\u001b[0m\u001b[0;34m{\u001b[0m\u001b[0;34m'X'\u001b[0m\u001b[0;34m:\u001b[0m \u001b[0;34m[\u001b[0m\u001b[0mfeed_var\u001b[0m\u001b[0;34m]\u001b[0m\u001b[0;34m}\u001b[0m\u001b[0;34m,\u001b[0m\u001b[0;34m\u001b[0m\u001b[0;34m\u001b[0m\u001b[0m\n\u001b[1;32m    608\u001b[0m                         \u001b[0moutputs\u001b[0m\u001b[0;34m=\u001b[0m\u001b[0;34m{\u001b[0m\u001b[0;34m'Out'\u001b[0m\u001b[0;34m:\u001b[0m \u001b[0;34m[\u001b[0m\u001b[0mout\u001b[0m\u001b[0;34m]\u001b[0m\u001b[0;34m}\u001b[0m\u001b[0;34m,\u001b[0m\u001b[0;34m\u001b[0m\u001b[0;34m\u001b[0m\u001b[0m\n\u001b[0;32m--> 609\u001b[0;31m                         attrs={'col': i})\n\u001b[0m\u001b[1;32m    610\u001b[0m                 \u001b[0;32melse\u001b[0m\u001b[0;34m:\u001b[0m\u001b[0;34m\u001b[0m\u001b[0;34m\u001b[0m\u001b[0m\n\u001b[1;32m    611\u001b[0m                     warnings.warn(\n",
      "\u001b[0;32m/usr/local/lib/python3.6/dist-packages/paddle/fluid/framework.py\u001b[0m in \u001b[0;36m_prepend_op\u001b[0;34m(self, *args, **kwargs)\u001b[0m\n\u001b[1;32m   2677\u001b[0m                 \u001b[0minputs\u001b[0m\u001b[0;34m=\u001b[0m\u001b[0mkwargs\u001b[0m\u001b[0;34m.\u001b[0m\u001b[0mget\u001b[0m\u001b[0;34m(\u001b[0m\u001b[0;34m\"inputs\"\u001b[0m\u001b[0;34m,\u001b[0m \u001b[0;32mNone\u001b[0m\u001b[0;34m)\u001b[0m\u001b[0;34m,\u001b[0m\u001b[0;34m\u001b[0m\u001b[0;34m\u001b[0m\u001b[0m\n\u001b[1;32m   2678\u001b[0m                 \u001b[0moutputs\u001b[0m\u001b[0;34m=\u001b[0m\u001b[0mkwargs\u001b[0m\u001b[0;34m.\u001b[0m\u001b[0mget\u001b[0m\u001b[0;34m(\u001b[0m\u001b[0;34m\"outputs\"\u001b[0m\u001b[0;34m,\u001b[0m \u001b[0;32mNone\u001b[0m\u001b[0;34m)\u001b[0m\u001b[0;34m,\u001b[0m\u001b[0;34m\u001b[0m\u001b[0;34m\u001b[0m\u001b[0m\n\u001b[0;32m-> 2679\u001b[0;31m                 attrs=kwargs.get(\"attrs\", None))\n\u001b[0m\u001b[1;32m   2680\u001b[0m             \u001b[0mself\u001b[0m\u001b[0;34m.\u001b[0m\u001b[0mops\u001b[0m\u001b[0;34m.\u001b[0m\u001b[0minsert\u001b[0m\u001b[0;34m(\u001b[0m\u001b[0;36m0\u001b[0m\u001b[0;34m,\u001b[0m \u001b[0mop\u001b[0m\u001b[0;34m)\u001b[0m\u001b[0;34m\u001b[0m\u001b[0;34m\u001b[0m\u001b[0m\n\u001b[1;32m   2681\u001b[0m \u001b[0;34m\u001b[0m\u001b[0m\n",
      "\u001b[0;32m/usr/local/lib/python3.6/dist-packages/paddle/fluid/framework.py\u001b[0m in \u001b[0;36m__init__\u001b[0;34m(***failed resolving arguments***)\u001b[0m\n\u001b[1;32m   1958\u001b[0m                 \u001b[0;32mif\u001b[0m \u001b[0;32mnot\u001b[0m \u001b[0misinstance\u001b[0m\u001b[0;34m(\u001b[0m\u001b[0mop_attrs\u001b[0m\u001b[0;34m,\u001b[0m \u001b[0mdict\u001b[0m\u001b[0;34m)\u001b[0m\u001b[0;34m:\u001b[0m\u001b[0;34m\u001b[0m\u001b[0;34m\u001b[0m\u001b[0m\n\u001b[1;32m   1959\u001b[0m                     \u001b[0;32mraise\u001b[0m \u001b[0mTypeError\u001b[0m\u001b[0;34m(\u001b[0m\u001b[0;34m\"'attrs' should be a dict.\"\u001b[0m\u001b[0;34m)\u001b[0m\u001b[0;34m\u001b[0m\u001b[0;34m\u001b[0m\u001b[0m\n\u001b[0;32m-> 1960\u001b[0;31m                 \u001b[0;32mfor\u001b[0m \u001b[0mattr\u001b[0m \u001b[0;32min\u001b[0m \u001b[0mproto\u001b[0m\u001b[0;34m.\u001b[0m\u001b[0mattrs\u001b[0m\u001b[0;34m:\u001b[0m\u001b[0;34m\u001b[0m\u001b[0;34m\u001b[0m\u001b[0m\n\u001b[0m\u001b[1;32m   1961\u001b[0m                     \u001b[0mattr_name\u001b[0m \u001b[0;34m=\u001b[0m \u001b[0mattr\u001b[0m\u001b[0;34m.\u001b[0m\u001b[0mname\u001b[0m\u001b[0;34m\u001b[0m\u001b[0;34m\u001b[0m\u001b[0m\n\u001b[1;32m   1962\u001b[0m                     if (attr_name not in op_attrs) or (\n",
      "\u001b[0;31mKeyboardInterrupt\u001b[0m: "
     ]
    }
   ],
   "source": [
    "# 启动训练\n",
    "test_flag = 0\n",
    "total_steps = 0\n",
    "# 加载模型\n",
    "#if os.path.exists('model_dir/steps2_70184.ckpt'):\n",
    "#     agent.restore('model_dir/steps2_70184.ckpt')\n",
    "while total_steps < TRAIN_TOTAL_STEPS:\n",
    "    train_reward, steps = run_episode(env, agent, rpm)\n",
    "    total_steps += steps\n",
    "    #logger.info('Steps: {} Reward: {}'.format(total_steps, train_reward)) # 打印训练reward\n",
    "\n",
    "    if total_steps // TEST_EVERY_STEPS >= test_flag: # 每隔一定step数，评估一次模型\n",
    "        while total_steps // TEST_EVERY_STEPS >= test_flag:\n",
    "            test_flag += 1\n",
    " \n",
    "        evaluate_reward = evaluate(env, agent)\n",
    "        logger.info('Steps {}, Test reward: {}'.format(\n",
    "            total_steps, evaluate_reward)) # 打印评估的reward\n",
    "\n",
    "        # 每评估一次，就保存一次模型，以训练的step数命名\n",
    "        ckpt = 'model_dir/steps1_{}.ckpt'.format(total_steps)\n",
    "        agent.save(ckpt)"
   ]
  },
  {
   "cell_type": "code",
   "execution_count": 14,
   "metadata": {
    "id": "quuMcSLNUWkv"
   },
   "outputs": [],
   "source": [
    "#上面运行结果：\n",
    "with open('steps1.txt') as f:\n",
    "    rsts=f.readlines()\n",
    "f.close()\n",
    "steps=[]\n",
    "rewards=[]\n",
    "rsts=rsts[2:]\n",
    "#itm=rsts[2]\n",
    "for itm in rsts:\n",
    "    p1=itm.find('Steps')\n",
    "    p2=itm.find(',')\n",
    "    p3=itm.rfind(':')\n",
    "    steps.append(int(itm[p1+6:p2]))\n",
    "    rewards.append(float(itm[p3+1:-1]))\n"
   ]
  },
  {
   "cell_type": "code",
   "execution_count": 15,
   "metadata": {
    "colab": {
     "base_uri": "https://localhost:8080/",
     "height": 620
    },
    "id": "P5mEkXTVUWk2",
    "outputId": "fdaad6e8-b346-4f49-99eb-9b44b870eea0"
   },
   "outputs": [
    {
     "data": {
      "image/png": "[encoded data removed]",
      "text/plain": [
       "<Figure size 1080x720 with 1 Axes>"
      ]
     },
     "metadata": {
      "needs_background": "light",
      "tags": []
     },
     "output_type": "display_data"
    }
   ],
   "source": [
    "import matplotlib.pyplot as plt\n",
    "%matplotlib inline\n",
    "f=plt.figure(figsize=(15,10))\n",
    "plt.plot(steps, rewards)\n",
    "plt.title('Training Result')\n",
    "plt.xlabel('Step')\n",
    "plt.ylabel('Result')\n",
    "plt.show()"
   ]
  },
  {
   "cell_type": "markdown",
   "metadata": {
    "id": "uSeyArG4UWlA"
   },
   "source": [
    "# 验收测评"
   ]
  },
  {
   "cell_type": "code",
   "execution_count": 19,
   "metadata": {
    "colab": {
     "base_uri": "https://localhost:8080/"
    },
    "id": "sw7YXOa5UWlB",
    "outputId": "2e5a7b03-ad78-4c36-9a78-861b033a70d7"
   },
   "outputs": [
    {
     "name": "stdout",
     "output_type": "stream",
     "text": [
      "\u001b[32m[11-11 10:21:23 MainThread @<ipython-input-19-9cbdd7c6fe72>:5]\u001b[0m Evaluate reward: 8596.243893483133\n"
     ]
    }
   ],
   "source": [
    "ckpt = './model_dir/steps1_360922.ckpt'  # 请设置ckpt为你训练中效果最好的一次评估保存的模型文件名称\n",
    "\n",
    "agent.restore(ckpt)\n",
    "evaluate_reward = evaluate(env, agent)\n",
    "logger.info('Evaluate reward: {}'.format(evaluate_reward)) # 打印评估的reward"
   ]
  }
 ],
 "metadata": {
  "colab": {
   "name": "DDPG_Applied.ipynb",
   "provenance": [],
   "toc_visible": true
  },
  "kernelspec": {
   "display_name": "Python 3",
   "language": "python",
   "name": "python3"
  },
  "language_info": {
   "codemirror_mode": {
    "name": "ipython",
    "version": 3
   },
   "file_extension": ".py",
   "mimetype": "text/x-python",
   "name": "python",
   "nbconvert_exporter": "python",
   "pygments_lexer": "ipython3",
   "version": "3.6.10"
  },
  "latex_envs": {
   "LaTeX_envs_menu_present": true,
   "autoclose": false,
   "autocomplete": true,
   "bibliofile": "biblio.bib",
   "cite_by": "apalike",
   "current_citInitial": 1,
   "eqLabelWithNumbers": true,
   "eqNumInitial": 1,
   "hotkeys": {
    "equation": "Ctrl-E",
    "itemize": "Ctrl-I"
   },
   "labels_anchors": false,
   "latex_user_defs": false,
   "report_style_numbering": false,
   "user_envs_cfg": false
  },
  "toc": {
   "base_numbering": 1,
   "nav_menu": {},
   "number_sections": true,
   "sideBar": true,
   "skip_h1_title": false,
   "title_cell": "Table of Contents",
   "title_sidebar": "Contents",
   "toc_cell": false,
   "toc_position": {},
   "toc_section_display": true,
   "toc_window_display": false
  },
  "varInspector": {
   "cols": {
    "lenName": 16,
    "lenType": 16,
    "lenVar": 40
   },
   "kernels_config": {
    "python": {
     "delete_cmd_postfix": "",
     "delete_cmd_prefix": "del ",
     "library": "var_list.py",
     "varRefreshCmd": "print(var_dic_list())"
    },
    "r": {
     "delete_cmd_postfix": ") ",
     "delete_cmd_prefix": "rm(",
     "library": "var_list.r",
     "varRefreshCmd": "cat(var_dic_list()) "
    }
   },
   "types_to_exclude": [
    "module",
    "function",
    "builtin_function_or_method",
    "instance",
    "_Feature"
   ],
   "window_display": false
  }
 },
 "nbformat": 4,
 "nbformat_minor": 1
}
