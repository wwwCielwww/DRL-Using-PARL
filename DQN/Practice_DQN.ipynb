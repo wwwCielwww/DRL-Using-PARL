{
 "cells": [
  {
   "cell_type": "markdown",
   "metadata": {},
   "source": [
    "# Step1 安装依赖"
   ]
  },
  {
   "cell_type": "markdown",
   "metadata": {},
   "source": [
    "# Step2  导入依赖"
   ]
  },
  {
   "cell_type": "code",
   "execution_count": null,
   "metadata": {},
   "outputs": [],
   "source": [
    "import parl\n",
    "from parl import layers\n",
    "import paddle.fluid as fluid\n",
    "import paddle\n",
    "import copy\n",
    "import numpy as np\n",
    "import os\n",
    "import gym\n",
    "from parl.utils import logger"
   ]
  },
  {
   "cell_type": "markdown",
   "metadata": {},
   "source": [
    "# Step3 设置超参数"
   ]
  },
  {
   "cell_type": "code",
   "execution_count": null,
   "metadata": {},
   "outputs": [],
   "source": [
    "LEARN_FREQ = 5 # 训练频率，不需要每一个step都learn，攒一些新增经验后再learn，提高效率\n",
    "MEMORY_SIZE = 20000    # replay memory的大小，越大越占用内存\n",
    "MEMORY_WARMUP_SIZE = 200  # replay_memory 里需要预存一些经验数据，再从里面sample一个batch的经验让agent去learn\n",
    "BATCH_SIZE = 32   # 每次给agent learn的数据数量，从replay memory随机里sample一批数据出来\n",
    "GAMMA = 0.99 # reward 的衰减因子，一般取 0.9 到 0.999 不等\n",
    "LEARNING_RATE = 0.001 # 学习率"
   ]
  },
  {
   "cell_type": "markdown",
   "metadata": {},
   "source": [
    "# Step4 搭建Model、Algorithm、Agent架构\n",
    "* `Agent`把产生的数据传给`algorithm`，`algorithm`根据`model`的模型结构计算出`Loss`，使用`SGD`或者其他优化器不断的优化，`PARL`架构可以很方便的应用在各类深度强化学习问题中。\n",
    "\n",
    "## Model\n",
    "* `Model`用来定义前向(`Forward`)网络，用户可以自由的定制自己的网络结构。"
   ]
  },
  {
   "cell_type": "code",
   "execution_count": null,
   "metadata": {},
   "outputs": [],
   "source": [
    "class Model(parl.Model):\n",
    "    def __init__(self, act_dim):\n",
    "        self.fc1 = layers.fc(size=128, act='relu')\n",
    "        self.fc2 = layers.fc(size=128, act='relu')\n",
    "        self.fc3 = layers.fc(size=act_dim, act=None)\n",
    "    def value(self, obs):\n",
    "        h1 = self.fc1(obs)\n",
    "        h2 = self.fc2(h1)\n",
    "        Q = self.fc3(h2)\n",
    "        return Q"
   ]
  },
  {
   "cell_type": "markdown",
   "metadata": {},
   "source": [
    "## Algorithm\n",
    "* `Algorithm`定义了具体的算法来更新前向网络(`Model`)，也就是通过定义损失函数来更新`Model`，和算法相关的计算都放在`algorithm`中。"
   ]
  },
  {
   "cell_type": "code",
   "execution_count": null,
   "metadata": {},
   "outputs": [],
   "source": [
    "from parl.algorithms import DQN # 直接从parl库中导入DQN算法，无需自己重写算法"
   ]
  },
  {
   "cell_type": "markdown",
   "metadata": {},
   "source": [
    "## Agent\n",
    "* `Agent`负责算法与环境的交互，在交互过程中把生成的数据提供给`Algorithm`来更新模型(`Model`)，数据的预处理流程也一般定义在这里。"
   ]
  },
  {
   "cell_type": "code",
   "execution_count": null,
   "metadata": {},
   "outputs": [],
   "source": [
    "class Agent(parl.Agent):\n",
    "    def __init__(self,\n",
    "                 algorithm,\n",
    "                 obs_dim,\n",
    "                 act_dim,\n",
    "                 e_greed=0.1,\n",
    "                 e_greed_decrement=0):\n",
    "        assert isinstance(obs_dim, int)\n",
    "        assert isinstance(act_dim, int)\n",
    "        self.obs_dim = obs_dim\n",
    "        self.act_dim = act_dim\n",
    "        super(Agent, self).__init__(algorithm)\n",
    "\n",
    "        self.global_step = 0\n",
    "        self.update_target_steps = 200  # 每隔200个training steps再把model的参数复制到target_model中\n",
    "\n",
    "        self.e_greed = e_greed  # 有一定概率随机选取动作，探索\n",
    "        self.e_greed_decrement = e_greed_decrement  # 随着训练逐步收敛，探索的程度慢慢降低\n",
    "\n",
    "    def build_program(self):\n",
    "        self.pred_program = fluid.Program()\n",
    "        self.learn_program = fluid.Program()\n",
    "\n",
    "        with fluid.program_guard(self.pred_program):  # 搭建计算图用于 预测动作，定义输入输出变量\n",
    "            obs = layers.data(\n",
    "                name='obs', shape=[self.obs_dim], dtype='float32')\n",
    "            self.value = self.alg.predict(obs)\n",
    "\n",
    "        with fluid.program_guard(self.learn_program):  # 搭建计算图用于 更新Q网络，定义输入输出变量\n",
    "            obs = layers.data(\n",
    "                name='obs', shape=[self.obs_dim], dtype='float32')\n",
    "            action = layers.data(name='act', shape=[1], dtype='int32')\n",
    "            reward = layers.data(name='reward', shape=[], dtype='float32')\n",
    "            next_obs = layers.data(\n",
    "                name='next_obs', shape=[self.obs_dim], dtype='float32')\n",
    "            terminal = layers.data(name='terminal', shape=[], dtype='bool')\n",
    "            self.cost = self.alg.learn(obs, action, reward, next_obs, terminal)\n",
    "\n",
    "    def sample(self, obs):\n",
    "        sample = np.random.rand()  # 产生0~1之间的小数\n",
    "        if sample < self.e_greed:\n",
    "            act = np.random.randint(self.act_dim)  # 探索：每个动作都有概率被选择\n",
    "        else:\n",
    "            act = self.predict(obs)  # 选择最优动作\n",
    "        self.e_greed = max(\n",
    "            0.01, self.e_greed - self.e_greed_decrement)  # 随着训练逐步收敛，探索的程度慢慢降低\n",
    "        return act\n",
    "\n",
    "    def predict(self, obs):  # 选择最优动作\n",
    "        obs = np.expand_dims(obs, axis=0)\n",
    "        pred_Q = self.fluid_executor.run(\n",
    "            self.pred_program,\n",
    "            feed={'obs': obs.astype('float32')},\n",
    "            fetch_list=[self.value])[0]\n",
    "        pred_Q = np.squeeze(pred_Q, axis=0)\n",
    "        act = np.argmax(pred_Q)  # 选择Q最大的下标，即对应的动作\n",
    "        return act\n",
    "\n",
    "    def learn(self, obs, act, reward, next_obs, terminal):\n",
    "        # 每隔200个training steps同步一次model和target_model的参数\n",
    "        if self.global_step % self.update_target_steps == 0:\n",
    "            self.alg.sync_target()\n",
    "        self.global_step += 1\n",
    "\n",
    "        act = np.expand_dims(act, -1)\n",
    "        feed = {\n",
    "            'obs': obs.astype('float32'),\n",
    "            'act': act.astype('int32'),\n",
    "            'reward': reward,\n",
    "            'next_obs': next_obs.astype('float32'),\n",
    "            'terminal': terminal\n",
    "        }\n",
    "        cost = self.fluid_executor.run(\n",
    "            self.learn_program, feed=feed, fetch_list=[self.cost])[0]  # 训练一次网络\n",
    "        return cost"
   ]
  },
  {
   "cell_type": "markdown",
   "metadata": {},
   "source": [
    "# Step5 ReplayMemory\n",
    "* 经验池：用于存储多条经验，实现 经验回放。"
   ]
  },
  {
   "cell_type": "code",
   "execution_count": null,
   "metadata": {},
   "outputs": [],
   "source": [
    "# replay_memory.py\n",
    "import random\n",
    "import collections\n",
    "import numpy as np\n",
    "\n",
    "\n",
    "class ReplayMemory(object):\n",
    "    def __init__(self, max_size):\n",
    "        self.buffer = collections.deque(maxlen=max_size)\n",
    "\n",
    "    # 增加一条经验到经验池中\n",
    "    def append(self, exp):\n",
    "        self.buffer.append(exp)\n",
    "\n",
    "    # 从经验池中选取N条经验出来\n",
    "    def sample(self, batch_size):\n",
    "        mini_batch = random.sample(self.buffer, batch_size)\n",
    "        obs_batch, action_batch, reward_batch, next_obs_batch, done_batch = [], [], [], [], []\n",
    "\n",
    "        for experience in mini_batch:\n",
    "            s, a, r, s_p, done = experience\n",
    "            obs_batch.append(s)\n",
    "            action_batch.append(a)\n",
    "            reward_batch.append(r)\n",
    "            next_obs_batch.append(s_p)\n",
    "            done_batch.append(done)\n",
    "\n",
    "        return np.array(obs_batch).astype('float32'), \\\n",
    "            np.array(action_batch).astype('float32'), np.array(reward_batch).astype('float32'),\\\n",
    "            np.array(next_obs_batch).astype('float32'), np.array(done_batch).astype('float32')\n",
    "\n",
    "    def __len__(self):\n",
    "        return len(self.buffer)\n"
   ]
  },
  {
   "cell_type": "markdown",
   "metadata": {},
   "source": [
    "# Step6 Training && Test（训练&&测试）"
   ]
  },
  {
   "cell_type": "code",
   "execution_count": null,
   "metadata": {},
   "outputs": [],
   "source": [
    "# 训练一个episode\n",
    "def run_episode(env, agent, rpm):\n",
    "    total_reward = 0\n",
    "    obs = env.reset()\n",
    "    step = 0\n",
    "    while True:\n",
    "        step += 1\n",
    "        action = agent.sample(obs)  # 采样动作，所有动作都有概率被尝试到\n",
    "        next_obs, reward, done, _ = env.step(action)\n",
    "        rpm.append((obs, action, reward, next_obs, done))\n",
    "\n",
    "        # train model\n",
    "        if (len(rpm) > MEMORY_WARMUP_SIZE) and (step % LEARN_FREQ == 0):\n",
    "            (batch_obs, batch_action, batch_reward, batch_next_obs,\n",
    "             batch_done) = rpm.sample(BATCH_SIZE)\n",
    "            train_loss = agent.learn(batch_obs, batch_action, batch_reward,\n",
    "                                     batch_next_obs,\n",
    "                                     batch_done)  # s,a,r,s',done\n",
    "\n",
    "        total_reward += reward\n",
    "        obs = next_obs\n",
    "        if done:\n",
    "            break\n",
    "    return total_reward\n",
    "\n",
    "\n",
    "# 评估 agent, 跑 5 个episode，总reward求平均\n",
    "def evaluate(env, agent, render=False):\n",
    "    eval_reward = []\n",
    "    for i in range(5):\n",
    "        obs = env.reset()\n",
    "        episode_reward = 0\n",
    "        while True:\n",
    "            action = agent.predict(obs)  # 预测动作，只选最优动作\n",
    "            obs, reward, done, _ = env.step(action)\n",
    "            episode_reward += reward\n",
    "            if render:\n",
    "                env.render()\n",
    "            if done:\n",
    "                break\n",
    "        eval_reward.append(episode_reward)\n",
    "    return np.mean(eval_reward)"
   ]
  },
  {
   "cell_type": "markdown",
   "metadata": {},
   "source": [
    "# Step7 创建环境和Agent，创建经验池，启动训练，保存模型"
   ]
  },
  {
   "cell_type": "code",
   "execution_count": null,
   "metadata": {},
   "outputs": [
    {
     "name": "stdout",
     "output_type": "stream",
     "text": [
      "\u001b[32m[11-01 02:33:59 MainThread @machine_info.py:86]\u001b[0m nvidia-smi -L found gpu count: 1\n",
      "\u001b[32m[11-01 02:33:59 MainThread @machine_info.py:86]\u001b[0m nvidia-smi -L found gpu count: 1\n"
     ]
    }
   ],
   "source": [
    "# 创建环境\n",
    "env = gym.make('MountainCar-v0')\n",
    "action_dim = env.action_space.n  # MountainCar-v0: 3\n",
    "obs_shape = env.observation_space.shape  # MountainCar-v0: (2,)\n",
    "\n",
    "# 创建经验池\n",
    "rpm = ReplayMemory(MEMORY_SIZE)  # DQN的经验回放池\n",
    "\n",
    "model = Model(act_dim=action_dim)\n",
    "algorithm = DQN(model, act_dim=action_dim, gamma=GAMMA, lr=LEARNING_RATE)\n",
    "\n",
    "agent = Agent(\n",
    "    algorithm,\n",
    "    obs_dim=obs_shape[0],\n",
    "    act_dim=action_dim,\n",
    "    e_greed=0.2,\n",
    "    e_greed_decrement=5e-7\n",
    ")"
   ]
  },
  {
   "cell_type": "code",
   "execution_count": null,
   "metadata": {},
   "outputs": [],
   "source": [
    "while len(rpm) < MEMORY_WARMUP_SIZE:\n",
    "    run_episode(env, agent, rpm)"
   ]
  },
  {
   "cell_type": "code",
   "execution_count": null,
   "metadata": {},
   "outputs": [
    {
     "name": "stdout",
     "output_type": "stream",
     "text": [
      "\u001b[32m[11-01 02:34:03 MainThread @machine_info.py:86]\u001b[0m nvidia-smi -L found gpu count: 1\n",
      "\u001b[32m[11-01 02:34:33 MainThread @<ipython-input-14-3c7862543642>:14]\u001b[0m episode:50    e_greed:0.19490000000013646   test_reward:-200.0\n",
      "\u001b[32m[11-01 02:35:04 MainThread @<ipython-input-14-3c7862543642>:14]\u001b[0m episode:100    e_greed:0.18995550000026876   test_reward:-200.0\n",
      "\u001b[32m[11-01 02:35:35 MainThread @<ipython-input-14-3c7862543642>:14]\u001b[0m episode:150    e_greed:0.18496300000040233   test_reward:-200.0\n",
      "\u001b[32m[11-01 02:36:07 MainThread @<ipython-input-14-3c7862543642>:14]\u001b[0m episode:200    e_greed:0.1799630000005361   test_reward:-200.0\n",
      "\u001b[32m[11-01 02:36:40 MainThread @<ipython-input-14-3c7862543642>:14]\u001b[0m episode:250    e_greed:0.1749630000006699   test_reward:-200.0\n",
      "\u001b[32m[11-01 02:37:12 MainThread @<ipython-input-14-3c7862543642>:14]\u001b[0m episode:300    e_greed:0.16996300000080367   test_reward:-200.0\n",
      "\u001b[32m[11-01 02:37:43 MainThread @<ipython-input-14-3c7862543642>:14]\u001b[0m episode:350    e_greed:0.16496350000093743   test_reward:-200.0\n",
      "\u001b[32m[11-01 02:38:15 MainThread @<ipython-input-14-3c7862543642>:14]\u001b[0m episode:400    e_greed:0.1599635000010712   test_reward:-200.0\n",
      "\u001b[32m[11-01 02:38:49 MainThread @<ipython-input-14-3c7862543642>:14]\u001b[0m episode:450    e_greed:0.15496350000120498   test_reward:-200.0\n",
      "\u001b[32m[11-01 02:39:22 MainThread @<ipython-input-14-3c7862543642>:14]\u001b[0m episode:500    e_greed:0.14996350000133876   test_reward:-200.0\n",
      "\u001b[32m[11-01 02:39:55 MainThread @<ipython-input-14-3c7862543642>:14]\u001b[0m episode:550    e_greed:0.14498200000147204   test_reward:-200.0\n",
      "\u001b[32m[11-01 02:40:29 MainThread @<ipython-input-14-3c7862543642>:14]\u001b[0m episode:600    e_greed:0.13999850000160538   test_reward:-200.0\n",
      "\u001b[32m[11-01 02:41:01 MainThread @<ipython-input-14-3c7862543642>:14]\u001b[0m episode:650    e_greed:0.13502900000173834   test_reward:-200.0\n",
      "\u001b[32m[11-01 02:41:33 MainThread @<ipython-input-14-3c7862543642>:14]\u001b[0m episode:700    e_greed:0.13002900000187212   test_reward:-200.0\n",
      "\u001b[32m[11-01 02:42:05 MainThread @<ipython-input-14-3c7862543642>:14]\u001b[0m episode:750    e_greed:0.1250440000020055   test_reward:-200.0\n",
      "\u001b[32m[11-01 02:42:37 MainThread @<ipython-input-14-3c7862543642>:14]\u001b[0m episode:800    e_greed:0.12005950000200173   test_reward:-200.0\n",
      "\u001b[32m[11-01 02:43:09 MainThread @<ipython-input-14-3c7862543642>:14]\u001b[0m episode:850    e_greed:0.11507800000199675   test_reward:-183.8\n",
      "\u001b[32m[11-01 02:43:40 MainThread @<ipython-input-14-3c7862543642>:14]\u001b[0m episode:900    e_greed:0.11024750000199192   test_reward:-200.0\n",
      "\u001b[32m[11-01 02:44:12 MainThread @<ipython-input-14-3c7862543642>:14]\u001b[0m episode:950    e_greed:0.1054335000019871   test_reward:-183.0\n",
      "\u001b[32m[11-01 02:44:42 MainThread @<ipython-input-14-3c7862543642>:14]\u001b[0m episode:1000    e_greed:0.10076600000198244   test_reward:-200.0\n",
      "\u001b[32m[11-01 02:45:13 MainThread @<ipython-input-14-3c7862543642>:14]\u001b[0m episode:1050    e_greed:0.09618050000197785   test_reward:-200.0\n",
      "\u001b[32m[11-01 02:45:42 MainThread @<ipython-input-14-3c7862543642>:14]\u001b[0m episode:1100    e_greed:0.09167000000197334   test_reward:-200.0\n",
      "\u001b[32m[11-01 02:46:08 MainThread @<ipython-input-14-3c7862543642>:14]\u001b[0m episode:1150    e_greed:0.08781400000196948   test_reward:-200.0\n",
      "\u001b[32m[11-01 02:46:33 MainThread @<ipython-input-14-3c7862543642>:14]\u001b[0m episode:1200    e_greed:0.08397600000196564   test_reward:-119.2\n",
      "\u001b[32m[11-01 02:46:59 MainThread @<ipython-input-14-3c7862543642>:14]\u001b[0m episode:1250    e_greed:0.08000750000196168   test_reward:-129.8\n",
      "\u001b[32m[11-01 02:47:23 MainThread @<ipython-input-14-3c7862543642>:14]\u001b[0m episode:1300    e_greed:0.07620300000195787   test_reward:-156.2\n",
      "\u001b[32m[11-01 02:47:48 MainThread @<ipython-input-14-3c7862543642>:14]\u001b[0m episode:1350    e_greed:0.07235500000195402   test_reward:-144.2\n",
      "\u001b[32m[11-01 02:48:13 MainThread @<ipython-input-14-3c7862543642>:14]\u001b[0m episode:1400    e_greed:0.06855400000195022   test_reward:-122.6\n",
      "\u001b[32m[11-01 02:48:38 MainThread @<ipython-input-14-3c7862543642>:14]\u001b[0m episode:1450    e_greed:0.06470900000194638   test_reward:-124.0\n",
      "\u001b[32m[11-01 02:49:04 MainThread @<ipython-input-14-3c7862543642>:14]\u001b[0m episode:1500    e_greed:0.060748000001942415   test_reward:-158.0\n",
      "\u001b[32m[11-01 02:49:27 MainThread @<ipython-input-14-3c7862543642>:14]\u001b[0m episode:1550    e_greed:0.05724450000193891   test_reward:-125.0\n",
      "\u001b[32m[11-01 02:49:49 MainThread @<ipython-input-14-3c7862543642>:14]\u001b[0m episode:1600    e_greed:0.05387150000193554   test_reward:-134.0\n",
      "\u001b[32m[11-01 02:50:13 MainThread @<ipython-input-14-3c7862543642>:14]\u001b[0m episode:1650    e_greed:0.050320500001931986   test_reward:-133.8\n",
      "\u001b[32m[11-01 02:50:37 MainThread @<ipython-input-14-3c7862543642>:14]\u001b[0m episode:1700    e_greed:0.04668700000192835   test_reward:-132.2\n",
      "\u001b[32m[11-01 02:51:01 MainThread @<ipython-input-14-3c7862543642>:14]\u001b[0m episode:1750    e_greed:0.04300500000192467   test_reward:-129.4\n",
      "\u001b[32m[11-01 02:51:24 MainThread @<ipython-input-14-3c7862543642>:14]\u001b[0m episode:1800    e_greed:0.03950650000192117   test_reward:-135.8\n",
      "\u001b[32m[11-01 02:51:47 MainThread @<ipython-input-14-3c7862543642>:14]\u001b[0m episode:1850    e_greed:0.03609700000191776   test_reward:-134.6\n",
      "\u001b[32m[11-01 02:52:10 MainThread @<ipython-input-14-3c7862543642>:14]\u001b[0m episode:1900    e_greed:0.032651500001914316   test_reward:-113.8\n",
      "\u001b[32m[11-01 02:52:32 MainThread @<ipython-input-14-3c7862543642>:14]\u001b[0m episode:1950    e_greed:0.029259500001910924   test_reward:-124.2\n",
      "\u001b[32m[11-01 02:52:56 MainThread @<ipython-input-14-3c7862543642>:14]\u001b[0m episode:2000    e_greed:0.025749000001907413   test_reward:-128.2\n"
     ]
    }
   ],
   "source": [
    "max_episode = 2000\n",
    "\n",
    "# 开始训练\n",
    "episode = 0\n",
    "while episode < max_episode:  # 训练max_episode个回合，test部分不计算入episode数量\n",
    "    # train part\n",
    "    for i in range(0, 50):\n",
    "        total_reward = run_episode(env, agent, rpm)\n",
    "        episode += 1\n",
    "\n",
    "    # test part\n",
    "    eval_reward = evaluate(env, agent, render=True)  # render=True 查看显示效果\n",
    "    logger.info('episode:{}    e_greed:{}   test_reward:{}'.format(\n",
    "        episode, agent.e_greed, eval_reward))"
   ]
  }
 ],
 "metadata": {
  "kernelspec": {
   "display_name": "Python 3",
   "language": "python",
   "name": "python3"
  },
  "language_info": {
   "codemirror_mode": {
    "name": "ipython",
    "version": 3
   },
   "file_extension": ".py",
   "mimetype": "text/x-python",
   "name": "python",
   "nbconvert_exporter": "python",
   "pygments_lexer": "ipython3",
   "version": "3.6.10"
  },
  "latex_envs": {
   "LaTeX_envs_menu_present": true,
   "autoclose": false,
   "autocomplete": true,
   "bibliofile": "biblio.bib",
   "cite_by": "apalike",
   "current_citInitial": 1,
   "eqLabelWithNumbers": true,
   "eqNumInitial": 1,
   "hotkeys": {
    "equation": "Ctrl-E",
    "itemize": "Ctrl-I"
   },
   "labels_anchors": false,
   "latex_user_defs": false,
   "report_style_numbering": false,
   "user_envs_cfg": false
  },
  "toc": {
   "base_numbering": 1,
   "nav_menu": {},
   "number_sections": true,
   "sideBar": true,
   "skip_h1_title": false,
   "title_cell": "Table of Contents",
   "title_sidebar": "Contents",
   "toc_cell": false,
   "toc_position": {},
   "toc_section_display": true,
   "toc_window_display": false
  },
  "varInspector": {
   "cols": {
    "lenName": 16,
    "lenType": 16,
    "lenVar": 40
   },
   "kernels_config": {
    "python": {
     "delete_cmd_postfix": "",
     "delete_cmd_prefix": "del ",
     "library": "var_list.py",
     "varRefreshCmd": "print(var_dic_list())"
    },
    "r": {
     "delete_cmd_postfix": ") ",
     "delete_cmd_prefix": "rm(",
     "library": "var_list.r",
     "varRefreshCmd": "cat(var_dic_list()) "
    }
   },
   "types_to_exclude": [
    "module",
    "function",
    "builtin_function_or_method",
    "instance",
    "_Feature"
   ],
   "window_display": false
  }
 },
 "nbformat": 4,
 "nbformat_minor": 1
}
